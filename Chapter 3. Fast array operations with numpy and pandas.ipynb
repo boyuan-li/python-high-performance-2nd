{
 "cells": [
  {
   "cell_type": "markdown",
   "metadata": {},
   "source": [
    "# Chapter 3. Fast array operations with numpy and pandas"
   ]
  },
  {
   "cell_type": "markdown",
   "metadata": {},
   "source": [
    "The multidimensional array, numpy.ndarray, is internally based on C arrays. Apart from the performance benefits, this choice allows NumPy code to easily interface with the existing C and FORTRAN routines"
   ]
  },
  {
   "cell_type": "markdown",
   "metadata": {
    "toc-hr-collapsed": true,
    "toc-nb-collapsed": true
   },
   "source": [
    "## 3.1 Getting started with numpy"
   ]
  },
  {
   "cell_type": "markdown",
   "metadata": {},
   "source": [
    "### 3.1.1 Creating arrays"
   ]
  },
  {
   "cell_type": "code",
   "execution_count": 2,
   "metadata": {},
   "outputs": [
    {
     "data": {
      "text/plain": [
       "array([0, 1, 2])"
      ]
     },
     "execution_count": 2,
     "metadata": {},
     "output_type": "execute_result"
    }
   ],
   "source": [
    "import numpy as np\n",
    "a = np.array([0, 1,2])\n",
    "a"
   ]
  },
  {
   "cell_type": "code",
   "execution_count": 4,
   "metadata": {},
   "outputs": [
    {
     "data": {
      "text/plain": [
       "dtype('int64')"
      ]
     },
     "execution_count": 4,
     "metadata": {},
     "output_type": "execute_result"
    }
   ],
   "source": [
    "a.dtype"
   ]
  },
  {
   "cell_type": "code",
   "execution_count": 5,
   "metadata": {},
   "outputs": [
    {
     "data": {
      "text/plain": [
       "array([1., 2., 3.], dtype=float32)"
      ]
     },
     "execution_count": 5,
     "metadata": {},
     "output_type": "execute_result"
    }
   ],
   "source": [
    "a = np.array([1,2,3], dtype = 'float32')\n",
    "a"
   ]
  },
  {
   "cell_type": "code",
   "execution_count": 6,
   "metadata": {},
   "outputs": [
    {
     "data": {
      "text/plain": [
       "array([1., 2., 3.], dtype=float32)"
      ]
     },
     "execution_count": 6,
     "metadata": {},
     "output_type": "execute_result"
    }
   ],
   "source": [
    "a.astype('float32')"
   ]
  },
  {
   "cell_type": "code",
   "execution_count": 7,
   "metadata": {},
   "outputs": [
    {
     "data": {
      "text/plain": [
       "array([[0, 1, 2],\n",
       "       [3, 4, 5]])"
      ]
     },
     "execution_count": 7,
     "metadata": {},
     "output_type": "execute_result"
    }
   ],
   "source": [
    "a = np.array([[0,1,2],[3,4,5]])\n",
    "a"
   ]
  },
  {
   "cell_type": "code",
   "execution_count": 8,
   "metadata": {},
   "outputs": [
    {
     "data": {
      "text/plain": [
       "(2, 3)"
      ]
     },
     "execution_count": 8,
     "metadata": {},
     "output_type": "execute_result"
    }
   ],
   "source": [
    "a.shape"
   ]
  },
  {
   "cell_type": "code",
   "execution_count": 9,
   "metadata": {},
   "outputs": [
    {
     "data": {
      "text/plain": [
       "(16,)"
      ]
     },
     "execution_count": 9,
     "metadata": {},
     "output_type": "execute_result"
    }
   ],
   "source": [
    "a = np.array([0, 1, 2, 3, 4, 5, 6, 7, 8, 9, 10, 11, 12, 13, 14, 15])\n",
    "a.shape"
   ]
  },
  {
   "cell_type": "code",
   "execution_count": 13,
   "metadata": {},
   "outputs": [
    {
     "data": {
      "text/plain": [
       "(4, 4)"
      ]
     },
     "execution_count": 13,
     "metadata": {},
     "output_type": "execute_result"
    }
   ],
   "source": [
    "a.reshape(4,4).shape"
   ]
  },
  {
   "cell_type": "code",
   "execution_count": 14,
   "metadata": {},
   "outputs": [
    {
     "data": {
      "text/plain": [
       "(4, 4)"
      ]
     },
     "execution_count": 14,
     "metadata": {},
     "output_type": "execute_result"
    }
   ],
   "source": [
    "a.shape = (4,4)\n",
    "a.shape"
   ]
  },
  {
   "cell_type": "code",
   "execution_count": 15,
   "metadata": {},
   "outputs": [
    {
     "data": {
      "text/plain": [
       "array([[0., 0., 0.],\n",
       "       [0., 0., 0.],\n",
       "       [0., 0., 0.]])"
      ]
     },
     "execution_count": 15,
     "metadata": {},
     "output_type": "execute_result"
    }
   ],
   "source": [
    "np.zeros((3,3))"
   ]
  },
  {
   "cell_type": "code",
   "execution_count": 17,
   "metadata": {},
   "outputs": [
    {
     "data": {
      "text/plain": [
       "array([[0., 0., 0.],\n",
       "       [0., 0., 0.],\n",
       "       [0., 0., 0.]])"
      ]
     },
     "execution_count": 17,
     "metadata": {},
     "output_type": "execute_result"
    }
   ],
   "source": [
    "np.empty((3,3))"
   ]
  },
  {
   "cell_type": "code",
   "execution_count": 18,
   "metadata": {},
   "outputs": [
    {
     "data": {
      "text/plain": [
       "array([[1., 1., 1.],\n",
       "       [1., 1., 1.],\n",
       "       [1., 1., 1.]], dtype=float32)"
      ]
     },
     "execution_count": 18,
     "metadata": {},
     "output_type": "execute_result"
    }
   ],
   "source": [
    "np.ones((3,3), dtype = 'float32')"
   ]
  },
  {
   "cell_type": "code",
   "execution_count": 19,
   "metadata": {},
   "outputs": [
    {
     "data": {
      "text/plain": [
       "array([[0.24285472, 0.74470677, 0.13075692],\n",
       "       [0.04206244, 0.78188362, 0.95643154],\n",
       "       [0.9814878 , 0.5536925 , 0.93989009]])"
      ]
     },
     "execution_count": 19,
     "metadata": {},
     "output_type": "execute_result"
    }
   ],
   "source": [
    "np.random.rand(3,3)"
   ]
  },
  {
   "cell_type": "code",
   "execution_count": 20,
   "metadata": {},
   "outputs": [
    {
     "data": {
      "text/plain": [
       "array([[0, 0, 0, 0],\n",
       "       [0, 0, 0, 0],\n",
       "       [0, 0, 0, 0],\n",
       "       [0, 0, 0, 0]])"
      ]
     },
     "execution_count": 20,
     "metadata": {},
     "output_type": "execute_result"
    }
   ],
   "source": [
    "np.zeros_like(a)"
   ]
  },
  {
   "cell_type": "code",
   "execution_count": 21,
   "metadata": {},
   "outputs": [
    {
     "data": {
      "text/plain": [
       "array([[-8070450532247928832,  5764616314606123675,                    9,\n",
       "                           0],\n",
       "       [                   0,                    0,                    0,\n",
       "                           0],\n",
       "       [                   0,                    0,                    0,\n",
       "                           0],\n",
       "       [                   0,                    0, -8070450532247928832,\n",
       "        -8070450532247928832]])"
      ]
     },
     "execution_count": 21,
     "metadata": {},
     "output_type": "execute_result"
    }
   ],
   "source": [
    "np.empty_like(a)"
   ]
  },
  {
   "cell_type": "code",
   "execution_count": 22,
   "metadata": {},
   "outputs": [
    {
     "data": {
      "text/plain": [
       "array([[1, 1, 1, 1],\n",
       "       [1, 1, 1, 1],\n",
       "       [1, 1, 1, 1],\n",
       "       [1, 1, 1, 1]])"
      ]
     },
     "execution_count": 22,
     "metadata": {},
     "output_type": "execute_result"
    }
   ],
   "source": [
    "np.ones_like(a)"
   ]
  },
  {
   "cell_type": "markdown",
   "metadata": {},
   "source": [
    "### 3.1.2 Accessing arrays"
   ]
  },
  {
   "cell_type": "markdown",
   "metadata": {},
   "source": [
    "The NumPy array interface is, on a shallow level, similar to that of Python lists. NumPy arrays can be indexed using integers and iterated using a for loop"
   ]
  },
  {
   "cell_type": "code",
   "execution_count": 23,
   "metadata": {},
   "outputs": [
    {
     "data": {
      "text/plain": [
       "0"
      ]
     },
     "execution_count": 23,
     "metadata": {},
     "output_type": "execute_result"
    }
   ],
   "source": [
    "A = np.array([0,1,2,3,4,5,6,7,8])\n",
    "A[0]"
   ]
  },
  {
   "cell_type": "code",
   "execution_count": 25,
   "metadata": {},
   "outputs": [
    {
     "data": {
      "text/plain": [
       "[0, 1, 2, 3, 4, 5, 6, 7, 8]"
      ]
     },
     "execution_count": 25,
     "metadata": {},
     "output_type": "execute_result"
    }
   ],
   "source": [
    "[a for a in A]"
   ]
  },
  {
   "cell_type": "code",
   "execution_count": 26,
   "metadata": {},
   "outputs": [
    {
     "data": {
      "text/plain": [
       "array([0, 1, 2])"
      ]
     },
     "execution_count": 26,
     "metadata": {},
     "output_type": "execute_result"
    }
   ],
   "source": [
    "A = np.array([[0,1,2],[3,4,5],[6,7,8]])\n",
    "A[0]"
   ]
  },
  {
   "cell_type": "code",
   "execution_count": 27,
   "metadata": {},
   "outputs": [
    {
     "data": {
      "text/plain": [
       "1"
      ]
     },
     "execution_count": 27,
     "metadata": {},
     "output_type": "execute_result"
    }
   ],
   "source": [
    "A[0,1]"
   ]
  },
  {
   "cell_type": "code",
   "execution_count": 28,
   "metadata": {},
   "outputs": [
    {
     "data": {
      "text/plain": [
       "1"
      ]
     },
     "execution_count": 28,
     "metadata": {},
     "output_type": "execute_result"
    }
   ],
   "source": [
    "A[(0,1)]"
   ]
  },
  {
   "cell_type": "code",
   "execution_count": 29,
   "metadata": {},
   "outputs": [
    {
     "data": {
      "text/plain": [
       "array([[0, 1, 2],\n",
       "       [3, 4, 5]])"
      ]
     },
     "execution_count": 29,
     "metadata": {},
     "output_type": "execute_result"
    }
   ],
   "source": [
    "A[0:2]"
   ]
  },
  {
   "cell_type": "code",
   "execution_count": 30,
   "metadata": {},
   "outputs": [
    {
     "data": {
      "text/plain": [
       "array([[0, 1],\n",
       "       [3, 4]])"
      ]
     },
     "execution_count": 30,
     "metadata": {},
     "output_type": "execute_result"
    }
   ],
   "source": [
    "A[0:2, 0:2]"
   ]
  },
  {
   "cell_type": "code",
   "execution_count": 31,
   "metadata": {},
   "outputs": [
    {
     "data": {
      "text/plain": [
       "array([[1, 1, 2],\n",
       "       [1, 1, 5],\n",
       "       [6, 7, 8]])"
      ]
     },
     "execution_count": 31,
     "metadata": {},
     "output_type": "execute_result"
    }
   ],
   "source": [
    "A[0,1] = 8\n",
    "A[0:2, 0:2] = [[1,1], [1,1]]\n",
    "A"
   ]
  },
  {
   "cell_type": "markdown",
   "metadata": {},
   "source": [
    "Indexing with the slicing syntax is very fast because, unlike lists, it doesn't produce a copy of the array. In NumPy's terminology, it returns a **view** of the same memory area. If we take a slice of the original array, and then we change one of its values, the original array will be updated as well"
   ]
  },
  {
   "cell_type": "code",
   "execution_count": 32,
   "metadata": {},
   "outputs": [
    {
     "data": {
      "text/plain": [
       "array([2, 1, 1, 1])"
      ]
     },
     "execution_count": 32,
     "metadata": {},
     "output_type": "execute_result"
    }
   ],
   "source": [
    "a = np.array([1,1,1,1])\n",
    "a_view = a[0:2]\n",
    "a_view[0] = 2\n",
    "a"
   ]
  },
  {
   "cell_type": "markdown",
   "metadata": {},
   "source": [
    "It is important to be extra careful when mutating NumPy arrays. Since views share data, changing the values of a view can result in hard-to-find bugs. To prevent side effects, you can set the *a.flags.writeable = False* flag, which will prevent accidental mutation of the array or any of its views"
   ]
  },
  {
   "cell_type": "code",
   "execution_count": 35,
   "metadata": {},
   "outputs": [
    {
     "data": {
      "text/plain": [
       "array([[0.71188891, 0.97204645],\n",
       "       [0.37055878, 0.36735205],\n",
       "       [0.66644029, 0.49979395],\n",
       "       [0.68846535, 0.44809823],\n",
       "       [0.48024954, 0.38949806],\n",
       "       [0.26923391, 0.71762113],\n",
       "       [0.439952  , 0.95715961],\n",
       "       [0.75827493, 0.1148695 ],\n",
       "       [0.06935974, 0.47051123],\n",
       "       [0.16965382, 0.77473366]])"
      ]
     },
     "execution_count": 35,
     "metadata": {},
     "output_type": "execute_result"
    }
   ],
   "source": [
    "r_i = np.random.rand(10,2)\n",
    "r_i"
   ]
  },
  {
   "cell_type": "code",
   "execution_count": 36,
   "metadata": {},
   "outputs": [
    {
     "data": {
      "text/plain": [
       "array([0.71188891, 0.37055878, 0.66644029, 0.68846535, 0.48024954,\n",
       "       0.26923391, 0.439952  , 0.75827493, 0.06935974, 0.16965382])"
      ]
     },
     "execution_count": 36,
     "metadata": {},
     "output_type": "execute_result"
    }
   ],
   "source": [
    "x_i = r_i[:,0]\n",
    "x_i"
   ]
  },
  {
   "cell_type": "code",
   "execution_count": 37,
   "metadata": {},
   "outputs": [
    {
     "data": {
      "text/plain": [
       "array([0.71188891, 0.97204645])"
      ]
     },
     "execution_count": 37,
     "metadata": {},
     "output_type": "execute_result"
    }
   ],
   "source": [
    "r_0 = r_i[0,:]\n",
    "r_0"
   ]
  },
  {
   "cell_type": "code",
   "execution_count": 38,
   "metadata": {},
   "outputs": [
    {
     "data": {
      "text/plain": [
       "array([0.71188891, 0.97204645])"
      ]
     },
     "execution_count": 38,
     "metadata": {},
     "output_type": "execute_result"
    }
   ],
   "source": [
    "r_i[0]"
   ]
  },
  {
   "cell_type": "markdown",
   "metadata": {},
   "source": [
    "Fancy indexing: index an array using another numpy array made of either integer or boolean values"
   ]
  },
  {
   "cell_type": "code",
   "execution_count": 39,
   "metadata": {},
   "outputs": [
    {
     "data": {
      "text/plain": [
       "array([9, 7, 6])"
      ]
     },
     "execution_count": 39,
     "metadata": {},
     "output_type": "execute_result"
    }
   ],
   "source": [
    "a = np.array([9,8,7,6,5,4,3,2,1,0])\n",
    "idx = np.array([0,2,3])\n",
    "a[idx]"
   ]
  },
  {
   "cell_type": "code",
   "execution_count": null,
   "metadata": {},
   "outputs": [],
   "source": [
    "a = np.array([[0,1,2],[3,4,5],\n",
    "              [6,7,8],[9,10,11]])\n",
    "idx1 = np.array([0,1])\n",
    "idx2 = np.array([2,3])\n",
    "a[idx1, idx2]"
   ]
  },
  {
   "cell_type": "code",
   "execution_count": 43,
   "metadata": {},
   "outputs": [
    {
     "data": {
      "text/plain": [
       "array([[0, 1, 2],\n",
       "       [3, 4, 5]])"
      ]
     },
     "execution_count": 43,
     "metadata": {},
     "output_type": "execute_result"
    }
   ],
   "source": [
    "a[np.array([0,1])]"
   ]
  },
  {
   "cell_type": "code",
   "execution_count": 44,
   "metadata": {},
   "outputs": [
    {
     "data": {
      "text/plain": [
       "array([[0, 1, 2],\n",
       "       [3, 4, 5]])"
      ]
     },
     "execution_count": 44,
     "metadata": {},
     "output_type": "execute_result"
    }
   ],
   "source": [
    "a[[0,1]]"
   ]
  },
  {
   "cell_type": "code",
   "execution_count": 46,
   "metadata": {},
   "outputs": [
    {
     "data": {
      "text/plain": [
       "1"
      ]
     },
     "execution_count": 46,
     "metadata": {},
     "output_type": "execute_result"
    }
   ],
   "source": [
    "a[0,1]"
   ]
  },
  {
   "cell_type": "code",
   "execution_count": 47,
   "metadata": {},
   "outputs": [
    {
     "data": {
      "text/plain": [
       "1"
      ]
     },
     "execution_count": 47,
     "metadata": {},
     "output_type": "execute_result"
    }
   ],
   "source": [
    "a[(0,1)]"
   ]
  },
  {
   "cell_type": "code",
   "execution_count": 48,
   "metadata": {},
   "outputs": [
    {
     "data": {
      "text/plain": [
       "True"
      ]
     },
     "execution_count": 48,
     "metadata": {},
     "output_type": "execute_result"
    }
   ],
   "source": [
    "a[0,1] == a[(0,1)]"
   ]
  },
  {
   "cell_type": "code",
   "execution_count": 50,
   "metadata": {},
   "outputs": [
    {
     "data": {
      "text/plain": [
       "array([[ True,  True,  True],\n",
       "       [ True,  True,  True]])"
      ]
     },
     "execution_count": 50,
     "metadata": {},
     "output_type": "execute_result"
    }
   ],
   "source": [
    "a[np.array([0,1])] == a[[0,1]]"
   ]
  },
  {
   "cell_type": "code",
   "execution_count": 52,
   "metadata": {},
   "outputs": [
    {
     "data": {
      "text/plain": [
       "array([[ 0,  5],\n",
       "       [10,  7]])"
      ]
     },
     "execution_count": 52,
     "metadata": {},
     "output_type": "execute_result"
    }
   ],
   "source": [
    "idx1 = [[0,1],[3,2]]\n",
    "idx2 = [[0,2],[1,1]]\n",
    "a[idx1, idx2]\n",
    "# (0,0),(1,2),(3,1),(2,1)"
   ]
  },
  {
   "cell_type": "code",
   "execution_count": 54,
   "metadata": {},
   "outputs": [
    {
     "data": {
      "text/plain": [
       "array([[0.49484895, 0.00954873],\n",
       "       [0.93346064, 0.24733568],\n",
       "       [0.55020413, 0.55233446],\n",
       "       [0.53774056, 0.38489638],\n",
       "       [0.57466683, 0.92618917],\n",
       "       [0.02872709, 0.52576388],\n",
       "       [0.60381707, 0.10392372],\n",
       "       [0.07931686, 0.13079175],\n",
       "       [0.15641724, 0.81374236],\n",
       "       [0.63291782, 0.18008601]])"
      ]
     },
     "execution_count": 54,
     "metadata": {},
     "output_type": "execute_result"
    }
   ],
   "source": [
    "r_i = np.random.rand(10,2)\n",
    "r_i"
   ]
  },
  {
   "cell_type": "code",
   "execution_count": 55,
   "metadata": {},
   "outputs": [
    {
     "data": {
      "text/plain": [
       "array([[0.49484895, 0.00954873],\n",
       "       [0.93346064, 0.24733568],\n",
       "       [0.55020413, 0.55233446],\n",
       "       [0.53774056, 0.38489638],\n",
       "       [0.57466683, 0.92618917],\n",
       "       [0.02872709, 0.52576388],\n",
       "       [0.60381707, 0.10392372],\n",
       "       [0.07931686, 0.13079175],\n",
       "       [0.15641724, 0.81374236],\n",
       "       [0.63291782, 0.18008601]])"
      ]
     },
     "execution_count": 55,
     "metadata": {},
     "output_type": "execute_result"
    }
   ],
   "source": [
    "r_i[:,[0,1]]"
   ]
  },
  {
   "cell_type": "code",
   "execution_count": 56,
   "metadata": {},
   "outputs": [
    {
     "data": {
      "text/plain": [
       "array([[0.00954873, 0.49484895],\n",
       "       [0.24733568, 0.93346064],\n",
       "       [0.55233446, 0.55020413],\n",
       "       [0.38489638, 0.53774056],\n",
       "       [0.92618917, 0.57466683],\n",
       "       [0.52576388, 0.02872709],\n",
       "       [0.10392372, 0.60381707],\n",
       "       [0.13079175, 0.07931686],\n",
       "       [0.81374236, 0.15641724],\n",
       "       [0.18008601, 0.63291782]])"
      ]
     },
     "execution_count": 56,
     "metadata": {},
     "output_type": "execute_result"
    }
   ],
   "source": [
    "r_i[:,[1,0]]"
   ]
  },
  {
   "cell_type": "code",
   "execution_count": 57,
   "metadata": {},
   "outputs": [],
   "source": [
    "r_i[:, [0, 1]] = r_i[:, [1, 0]]"
   ]
  },
  {
   "cell_type": "code",
   "execution_count": 58,
   "metadata": {},
   "outputs": [
    {
     "data": {
      "text/plain": [
       "array([[0.00954873, 0.49484895],\n",
       "       [0.24733568, 0.93346064],\n",
       "       [0.55233446, 0.55020413],\n",
       "       [0.38489638, 0.53774056],\n",
       "       [0.92618917, 0.57466683],\n",
       "       [0.52576388, 0.02872709],\n",
       "       [0.10392372, 0.60381707],\n",
       "       [0.13079175, 0.07931686],\n",
       "       [0.81374236, 0.15641724],\n",
       "       [0.18008601, 0.63291782]])"
      ]
     },
     "execution_count": 58,
     "metadata": {},
     "output_type": "execute_result"
    }
   ],
   "source": [
    "r_i"
   ]
  },
  {
   "cell_type": "markdown",
   "metadata": {},
   "source": [
    "When the index array is of the bool type, the rules are slightly different. The bool array will act like a mask; every element corresponding to True will be extracted and put in the output array"
   ]
  },
  {
   "cell_type": "code",
   "execution_count": 59,
   "metadata": {},
   "outputs": [
    {
     "data": {
      "text/plain": [
       "array([0, 2])"
      ]
     },
     "execution_count": 59,
     "metadata": {},
     "output_type": "execute_result"
    }
   ],
   "source": [
    "a = np.array([0,1,2,3,4,5])\n",
    "mask = np.array([True, False, True, False, False, False])\n",
    "a[mask]"
   ]
  },
  {
   "cell_type": "markdown",
   "metadata": {},
   "source": [
    "The same rules apply when dealing with multiple dimensions. Furthermore, if the index array has the same shape as the original array, the elements corresponding to True will be selected and put in the resulting array."
   ]
  },
  {
   "cell_type": "markdown",
   "metadata": {},
   "source": [
    "Indexing in NumPy is a reasonably fast operation. Anyway, when speed is critical, you can use the slightly faster numpy.take and numpy.compress functions to squeeze out a little more performance. The first argument of numpy.take is the array we want to operate on, and the second is the list of indexes we want to extract. The last argument is axis; if not provided, the indexes will act on the flattened array; otherwise, they will act along the specified axis"
   ]
  },
  {
   "cell_type": "code",
   "execution_count": 61,
   "metadata": {},
   "outputs": [],
   "source": [
    "r_i = np.random.rand(100,2)\n",
    "idx = np.arange(50)"
   ]
  },
  {
   "cell_type": "code",
   "execution_count": 62,
   "metadata": {},
   "outputs": [
    {
     "name": "stdout",
     "output_type": "stream",
     "text": [
      "1.59 µs ± 21.7 ns per loop (mean ± std. dev. of 7 runs, 1000000 loops each)\n"
     ]
    }
   ],
   "source": [
    "%timeit np.take(r_i, idx, axis = 0)"
   ]
  },
  {
   "cell_type": "code",
   "execution_count": 63,
   "metadata": {},
   "outputs": [
    {
     "name": "stdout",
     "output_type": "stream",
     "text": [
      "1.54 µs ± 18.8 ns per loop (mean ± std. dev. of 7 runs, 1000000 loops each)\n"
     ]
    }
   ],
   "source": [
    "%timeit r_i[idx]"
   ]
  },
  {
   "cell_type": "markdown",
   "metadata": {},
   "source": [
    "The similar, but faster version for Boolean arrays is numpy.compress, which works in the same way."
   ]
  },
  {
   "cell_type": "code",
   "execution_count": 64,
   "metadata": {},
   "outputs": [],
   "source": [
    "idx = np.ones(100, dtype = 'bool')"
   ]
  },
  {
   "cell_type": "code",
   "execution_count": 67,
   "metadata": {},
   "outputs": [
    {
     "name": "stdout",
     "output_type": "stream",
     "text": [
      "2.13 µs ± 170 ns per loop (mean ± std. dev. of 7 runs, 100000 loops each)\n"
     ]
    }
   ],
   "source": [
    "%timeit np.compress(idx, r_i, axis = 0)"
   ]
  },
  {
   "cell_type": "code",
   "execution_count": 68,
   "metadata": {},
   "outputs": [
    {
     "name": "stdout",
     "output_type": "stream",
     "text": [
      "2.61 µs ± 37.9 ns per loop (mean ± std. dev. of 7 runs, 100000 loops each)\n"
     ]
    }
   ],
   "source": [
    "%timeit r_i[idx]"
   ]
  },
  {
   "cell_type": "markdown",
   "metadata": {},
   "source": [
    "### 3.1.3 Broadcasting"
   ]
  },
  {
   "cell_type": "markdown",
   "metadata": {},
   "source": [
    "The true power of NumPy lies in its fast mathematical operations. The approach used by NumPy is to avoid stepping into the Python interpreter by performing element-wise calculation using optimized C code. Broadcasting is a clever set of rules that enables fast array calculations for arrays of similar (but not equal) shape"
   ]
  },
  {
   "cell_type": "markdown",
   "metadata": {},
   "source": [
    "Whenever you do an arithmetic operation on two arrays (like a product), if the two operands have the same shape, the operation will be applied in an element-wise fashion. For example, upon multiplying two shape (2,2) arrays, the operation will be done between pairs of corresponding elements, producing another (2, 2) array,"
   ]
  },
  {
   "cell_type": "code",
   "execution_count": 69,
   "metadata": {},
   "outputs": [
    {
     "data": {
      "text/plain": [
       "array([[ 5, 12],\n",
       "       [21, 32]])"
      ]
     },
     "execution_count": 69,
     "metadata": {},
     "output_type": "execute_result"
    }
   ],
   "source": [
    "A = np.array([[1,2],[3,4]])\n",
    "B = np.array([[5,6],[7,8]])\n",
    "A * B\n",
    "# 1*5, 2*6, 3*7, 4*8"
   ]
  },
  {
   "cell_type": "markdown",
   "metadata": {},
   "source": [
    "If the shapes of the operands don't match, NumPy will attempt to match them using broadcasting rules. If one of the operands is a scalar (for example, a number), it will be applied to every element of the array"
   ]
  },
  {
   "cell_type": "code",
   "execution_count": 71,
   "metadata": {},
   "outputs": [
    {
     "data": {
      "text/plain": [
       "array([[2, 4],\n",
       "       [6, 8]])"
      ]
     },
     "execution_count": 71,
     "metadata": {},
     "output_type": "execute_result"
    }
   ],
   "source": [
    "A * 2\n",
    "# 1*2, 2*2, 3*2, 4*2"
   ]
  },
  {
   "cell_type": "markdown",
   "metadata": {},
   "source": [
    "If the operand is another array, NumPy will try to match the shapes starting from the last axis. For example, if we want to combine an array of shape (3, 2) with one of shape (2,), the second array will be repeated three times to generate a (3, 2) array. In other words, the array is broadcasted along a dimension to match the shape of the other operand,"
   ]
  },
  {
   "cell_type": "code",
   "execution_count": 75,
   "metadata": {},
   "outputs": [],
   "source": [
    "A = np.arange(6).reshape(3,2)\n",
    "B = np.arange(2).reshape(2)"
   ]
  },
  {
   "cell_type": "code",
   "execution_count": 76,
   "metadata": {},
   "outputs": [
    {
     "data": {
      "text/plain": [
       "array([[0, 1],\n",
       "       [2, 3],\n",
       "       [4, 5]])"
      ]
     },
     "execution_count": 76,
     "metadata": {},
     "output_type": "execute_result"
    }
   ],
   "source": [
    "A"
   ]
  },
  {
   "cell_type": "code",
   "execution_count": 78,
   "metadata": {},
   "outputs": [
    {
     "data": {
      "text/plain": [
       "array([0, 1])"
      ]
     },
     "execution_count": 78,
     "metadata": {},
     "output_type": "execute_result"
    }
   ],
   "source": [
    "B"
   ]
  },
  {
   "cell_type": "code",
   "execution_count": 79,
   "metadata": {},
   "outputs": [
    {
     "data": {
      "text/plain": [
       "array([[0, 2],\n",
       "       [2, 4],\n",
       "       [4, 6]])"
      ]
     },
     "execution_count": 79,
     "metadata": {},
     "output_type": "execute_result"
    }
   ],
   "source": [
    "A + B"
   ]
  },
  {
   "cell_type": "markdown",
   "metadata": {},
   "source": [
    "If the shapes mismatch, for example, when combining a (3, 2) array with a (2, 2) array, NumPy will throw an exception"
   ]
  },
  {
   "cell_type": "code",
   "execution_count": null,
   "metadata": {},
   "outputs": [],
   "source": [
    "A = np.arange(6).reshape(3,2)\n",
    "B = np.arange(4).reshape(2,2)\n",
    "A + B"
   ]
  },
  {
   "cell_type": "markdown",
   "metadata": {},
   "source": [
    "If one of the axis's size is 1, the array will be repeated over this axis until the shapes match"
   ]
  },
  {
   "cell_type": "code",
   "execution_count": 83,
   "metadata": {},
   "outputs": [],
   "source": [
    "A = np.arange(100).reshape(5,10,2)\n",
    "B = np.arange(10).reshape(5,1,2)"
   ]
  },
  {
   "cell_type": "code",
   "execution_count": 86,
   "metadata": {},
   "outputs": [
    {
     "data": {
      "text/plain": [
       "array([[[  0,   2],\n",
       "        [  2,   4],\n",
       "        [  4,   6],\n",
       "        [  6,   8],\n",
       "        [  8,  10],\n",
       "        [ 10,  12],\n",
       "        [ 12,  14],\n",
       "        [ 14,  16],\n",
       "        [ 16,  18],\n",
       "        [ 18,  20]],\n",
       "\n",
       "       [[ 22,  24],\n",
       "        [ 24,  26],\n",
       "        [ 26,  28],\n",
       "        [ 28,  30],\n",
       "        [ 30,  32],\n",
       "        [ 32,  34],\n",
       "        [ 34,  36],\n",
       "        [ 36,  38],\n",
       "        [ 38,  40],\n",
       "        [ 40,  42]],\n",
       "\n",
       "       [[ 44,  46],\n",
       "        [ 46,  48],\n",
       "        [ 48,  50],\n",
       "        [ 50,  52],\n",
       "        [ 52,  54],\n",
       "        [ 54,  56],\n",
       "        [ 56,  58],\n",
       "        [ 58,  60],\n",
       "        [ 60,  62],\n",
       "        [ 62,  64]],\n",
       "\n",
       "       [[ 66,  68],\n",
       "        [ 68,  70],\n",
       "        [ 70,  72],\n",
       "        [ 72,  74],\n",
       "        [ 74,  76],\n",
       "        [ 76,  78],\n",
       "        [ 78,  80],\n",
       "        [ 80,  82],\n",
       "        [ 82,  84],\n",
       "        [ 84,  86]],\n",
       "\n",
       "       [[ 88,  90],\n",
       "        [ 90,  92],\n",
       "        [ 92,  94],\n",
       "        [ 94,  96],\n",
       "        [ 96,  98],\n",
       "        [ 98, 100],\n",
       "        [100, 102],\n",
       "        [102, 104],\n",
       "        [104, 106],\n",
       "        [106, 108]]])"
      ]
     },
     "execution_count": 86,
     "metadata": {},
     "output_type": "execute_result"
    }
   ],
   "source": [
    "A + B # The B array will be repeated on the second axis 10 times of A "
   ]
  },
  {
   "cell_type": "markdown",
   "metadata": {},
   "source": [
    "If we have a (5, 2) array and we want to combine it with one of shape (5, 10, 2), we can add an extra axis in the middle, as shown in the following code, to obtain a compatible (5, 1, 2) array"
   ]
  },
  {
   "cell_type": "code",
   "execution_count": 87,
   "metadata": {},
   "outputs": [
    {
     "data": {
      "text/plain": [
       "array([[[1.48398230e-01, 2.61021576e-02],\n",
       "        [1.27757715e-01, 3.81209117e-01],\n",
       "        [6.71860427e-02, 1.91881651e-02],\n",
       "        [4.00048174e-02, 6.50680971e-01],\n",
       "        [1.03102388e-01, 7.77507554e-01],\n",
       "        [9.84625429e-02, 3.23780869e-01],\n",
       "        [1.68027062e-01, 1.14777894e-01],\n",
       "        [1.06910521e-01, 4.33844716e-03],\n",
       "        [1.90478166e-01, 1.77119174e-01],\n",
       "        [1.86996355e-01, 2.73742703e-01]],\n",
       "\n",
       "       [[1.50277337e-01, 5.39840667e-02],\n",
       "        [5.79902585e-02, 4.44673431e-02],\n",
       "        [1.00136000e-01, 1.19535551e-01],\n",
       "        [1.67352588e-01, 2.52964532e-02],\n",
       "        [1.31113360e-01, 1.14368606e-01],\n",
       "        [9.88342935e-02, 9.15100907e-02],\n",
       "        [7.52852249e-02, 8.28902416e-02],\n",
       "        [7.29709075e-02, 3.26339827e-02],\n",
       "        [1.56255656e-01, 7.51564143e-02],\n",
       "        [6.96429548e-02, 3.98085528e-02]],\n",
       "\n",
       "       [[2.49018264e-01, 4.84427814e-01],\n",
       "        [4.99812267e-01, 2.88968273e-02],\n",
       "        [6.47781314e-01, 1.27684657e-01],\n",
       "        [4.51259326e-02, 4.68215475e-01],\n",
       "        [6.44598015e-01, 2.38214248e-01],\n",
       "        [3.07570845e-01, 4.13756139e-01],\n",
       "        [1.04119221e-01, 5.26648178e-01],\n",
       "        [2.67138188e-01, 2.75102041e-01],\n",
       "        [6.15892791e-01, 5.19220375e-01],\n",
       "        [1.83745095e-01, 4.63422563e-02]],\n",
       "\n",
       "       [[3.97561692e-01, 8.34205940e-01],\n",
       "        [2.85845857e-01, 2.65578941e-01],\n",
       "        [9.34625525e-02, 4.66984002e-01],\n",
       "        [1.78053665e-01, 6.67777104e-01],\n",
       "        [4.41026919e-01, 9.45344590e-02],\n",
       "        [3.84275242e-01, 3.32149457e-02],\n",
       "        [3.70994559e-01, 6.12182093e-01],\n",
       "        [1.56025631e-01, 2.92452567e-01],\n",
       "        [1.40207333e-02, 8.93398235e-01],\n",
       "        [5.71863662e-01, 6.19156616e-02]],\n",
       "\n",
       "       [[3.94903028e-01, 2.44197350e-02],\n",
       "        [5.00463994e-01, 4.64218187e-02],\n",
       "        [2.23718127e-01, 3.15207068e-02],\n",
       "        [6.93801547e-03, 1.88724654e-02],\n",
       "        [1.17850243e-01, 6.43581753e-03],\n",
       "        [2.30735173e-01, 1.23590733e-02],\n",
       "        [4.39911933e-01, 5.65490408e-02],\n",
       "        [3.26102355e-02, 6.94191339e-04],\n",
       "        [1.63144476e-01, 3.58306615e-02],\n",
       "        [4.68505663e-01, 8.47632787e-03]]])"
      ]
     },
     "execution_count": 87,
     "metadata": {},
     "output_type": "execute_result"
    }
   ],
   "source": [
    "A = np.random.rand(5, 10, 2)\n",
    "B = np.random.rand(5, 2)\n",
    "A * B[:, np.newaxis, :]"
   ]
  },
  {
   "cell_type": "markdown",
   "metadata": {},
   "source": [
    "Outer product: The outer product is a matrix containing the product of all the possible combinations (i, j) of the two array elements"
   ]
  },
  {
   "cell_type": "markdown",
   "metadata": {},
   "source": [
    "To calculate this using NumPy, we will repeat the [a1, a2, a3] elements in one dimension, the [b1, b2, b3] elements in another dimension, and then take their elementwise product"
   ]
  },
  {
   "cell_type": "code",
   "execution_count": 97,
   "metadata": {},
   "outputs": [],
   "source": [
    "a = np.array([1,2,3])\n",
    "b = np.array([4,5,6])"
   ]
  },
  {
   "cell_type": "code",
   "execution_count": 99,
   "metadata": {},
   "outputs": [
    {
     "data": {
      "text/plain": [
       "array([ 4, 10, 18])"
      ]
     },
     "execution_count": 99,
     "metadata": {},
     "output_type": "execute_result"
    }
   ],
   "source": [
    "a * b\n",
    "# 1*4, 2*5, 3*6"
   ]
  },
  {
   "cell_type": "code",
   "execution_count": 100,
   "metadata": {},
   "outputs": [
    {
     "data": {
      "text/plain": [
       "array([[ 4,  5,  6],\n",
       "       [ 8, 10, 12],\n",
       "       [12, 15, 18]])"
      ]
     },
     "execution_count": 100,
     "metadata": {},
     "output_type": "execute_result"
    }
   ],
   "source": [
    "AB = a[:, np.newaxis] * b[np.newaxis, :]\n",
    "AB\n",
    "# 1*4, 1*5, 1*6\n",
    "# 2*4, 2*5, 2*6\n",
    "# 3*4, 3*5, 3*6"
   ]
  },
  {
   "cell_type": "markdown",
   "metadata": {},
   "source": [
    "This operation is very fast and extremely effective as it avoids Python loops and is able to process a high number of elements at speeds comparable with pure C or FORTRAN code"
   ]
  },
  {
   "cell_type": "markdown",
   "metadata": {},
   "source": [
    "### 3.1.4 Mathematical operations"
   ]
  },
  {
   "cell_type": "code",
   "execution_count": 101,
   "metadata": {},
   "outputs": [
    {
     "data": {
      "text/plain": [
       "array([2., 3., 4.])"
      ]
     },
     "execution_count": 101,
     "metadata": {},
     "output_type": "execute_result"
    }
   ],
   "source": [
    "np.sqrt(np.array([4,9,16]))"
   ]
  },
  {
   "cell_type": "code",
   "execution_count": 113,
   "metadata": {},
   "outputs": [
    {
     "data": {
      "text/plain": [
       "array([[ True, False,  True],\n",
       "       [False,  True,  True],\n",
       "       [ True,  True,  True],\n",
       "       [False,  True,  True],\n",
       "       [ True,  True,  True]])"
      ]
     },
     "execution_count": 113,
     "metadata": {},
     "output_type": "execute_result"
    }
   ],
   "source": [
    "a = np.random.rand(5,3)\n",
    "a > 0.3"
   ]
  },
  {
   "cell_type": "code",
   "execution_count": 114,
   "metadata": {},
   "outputs": [
    {
     "data": {
      "text/plain": [
       "array([[ 0,  1,  2],\n",
       "       [ 3,  4,  5],\n",
       "       [ 6,  7,  8],\n",
       "       [ 9, 10, 11],\n",
       "       [12, 13, 14]])"
      ]
     },
     "execution_count": 114,
     "metadata": {},
     "output_type": "execute_result"
    }
   ],
   "source": [
    "a = np.arange(15).reshape(5,3)\n",
    "a"
   ]
  },
  {
   "cell_type": "code",
   "execution_count": 115,
   "metadata": {},
   "outputs": [
    {
     "data": {
      "text/plain": [
       "array([[False, False, False],\n",
       "       [False, False, False],\n",
       "       [False, False, False],\n",
       "       [ True,  True,  True],\n",
       "       [ True,  True,  True]])"
      ]
     },
     "execution_count": 115,
     "metadata": {},
     "output_type": "execute_result"
    }
   ],
   "source": [
    "a > 8"
   ]
  },
  {
   "cell_type": "code",
   "execution_count": 116,
   "metadata": {},
   "outputs": [
    {
     "data": {
      "text/plain": [
       "array([ 9, 10, 11, 12, 13, 14])"
      ]
     },
     "execution_count": 116,
     "metadata": {},
     "output_type": "execute_result"
    }
   ],
   "source": [
    "a[a > 8]"
   ]
  },
  {
   "cell_type": "code",
   "execution_count": 119,
   "metadata": {},
   "outputs": [
    {
     "data": {
      "text/plain": [
       "array([[ 0,  1,  2],\n",
       "       [ 3,  4,  5],\n",
       "       [ 6,  7,  8],\n",
       "       [ 9, 10, 11],\n",
       "       [12, 13, 14]])"
      ]
     },
     "execution_count": 119,
     "metadata": {},
     "output_type": "execute_result"
    }
   ],
   "source": [
    "a = np.arange(15).reshape(5,3)\n",
    "a"
   ]
  },
  {
   "cell_type": "code",
   "execution_count": 120,
   "metadata": {},
   "outputs": [
    {
     "data": {
      "text/plain": [
       "array([30, 35, 40])"
      ]
     },
     "execution_count": 120,
     "metadata": {},
     "output_type": "execute_result"
    }
   ],
   "source": [
    "a.sum(axis = 0)"
   ]
  },
  {
   "cell_type": "code",
   "execution_count": 121,
   "metadata": {},
   "outputs": [
    {
     "data": {
      "text/plain": [
       "array([ 3, 12, 21, 30, 39])"
      ]
     },
     "execution_count": 121,
     "metadata": {},
     "output_type": "execute_result"
    }
   ],
   "source": [
    "a.sum(axis = 1)"
   ]
  },
  {
   "cell_type": "code",
   "execution_count": 123,
   "metadata": {},
   "outputs": [
    {
     "data": {
      "text/plain": [
       "105"
      ]
     },
     "execution_count": 123,
     "metadata": {},
     "output_type": "execute_result"
    }
   ],
   "source": [
    "a.sum() # With no argument operates on flattened array"
   ]
  },
  {
   "cell_type": "markdown",
   "metadata": {},
   "source": [
    "### 3.1.5 Calculating the norm"
   ]
  },
  {
   "cell_type": "code",
   "execution_count": null,
   "metadata": {},
   "outputs": [],
   "source": [
    "norm = sqrt(x ** 2 + y ** 2)"
   ]
  },
  {
   "cell_type": "code",
   "execution_count": 129,
   "metadata": {},
   "outputs": [
    {
     "data": {
      "text/plain": [
       "array([[ 0,  1],\n",
       "       [ 2,  3],\n",
       "       [ 4,  5],\n",
       "       [ 6,  7],\n",
       "       [ 8,  9],\n",
       "       [10, 11],\n",
       "       [12, 13],\n",
       "       [14, 15],\n",
       "       [16, 17],\n",
       "       [18, 19]])"
      ]
     },
     "execution_count": 129,
     "metadata": {},
     "output_type": "execute_result"
    }
   ],
   "source": [
    "r_i = np.arange(20).reshape(10,2)\n",
    "r_i"
   ]
  },
  {
   "cell_type": "code",
   "execution_count": 130,
   "metadata": {},
   "outputs": [
    {
     "data": {
      "text/plain": [
       "array([ 1.        ,  3.60555128,  6.40312424,  9.21954446, 12.04159458,\n",
       "       14.86606875, 17.69180601, 20.51828453, 23.34523506, 26.17250466])"
      ]
     },
     "execution_count": 130,
     "metadata": {},
     "output_type": "execute_result"
    }
   ],
   "source": [
    "norm = np.sqrt((r_i ** 2).sum(axis = 1))\n",
    "norm"
   ]
  },
  {
   "cell_type": "markdown",
   "metadata": {
    "toc-hr-collapsed": true,
    "toc-nb-collapsed": true
   },
   "source": [
    "## 3.2 Rewriting the particle simulator in numpy"
   ]
  },
  {
   "cell_type": "code",
   "execution_count": null,
   "metadata": {},
   "outputs": [],
   "source": [
    "for i in range(nsteps):\n",
    "    for p in self.particles:\n",
    "        norm = (p.x**2 + p.y**2)**0.5\n",
    "        v_x = (-p.y)/norm\n",
    "        v_y = p.x/norm\n",
    "        d_x = timestep * p.ang_vel * v_x\n",
    "        d_y = timestep * p.ang_vel * v_y\n",
    "        p.x += d_x\n",
    "        p.y += d_y"
   ]
  },
  {
   "cell_type": "code",
   "execution_count": null,
   "metadata": {},
   "outputs": [],
   "source": [
    "r_i = np.array([[p.x, p.y] for p in self.particles])\n",
    "ang_vel_i = np.array([p.ang_vel for p in self.particles])\n",
    "\n",
    "v_x = -y / norm\n",
    "v_y = x / norm\n",
    "\n",
    "norm_i = ((r_i ** 2).sum(axis=1))**0.5\n",
    "\n",
    "v_i = r_i[:, [1, 0]] / norm_i\n",
    "v_i[:, 0] *= -1\n",
    "\n",
    "d_i = timestep * ang_vel_i[:, np.newaxis] * v_i\n",
    "r_i += d_i\n",
    "\n",
    "for i, p in enumerate(self.particles):\n",
    "    p.x, p.y = r_i[i]"
   ]
  },
  {
   "cell_type": "markdown",
   "metadata": {},
   "source": [
    "ParticleSimulator.evolve_python:"
   ]
  },
  {
   "cell_type": "code",
   "execution_count": null,
   "metadata": {},
   "outputs": [],
   "source": [
    "def evolve_numpy(self, dt):\n",
    "    timestep = 0.00001\n",
    "    nsteps = int(dt/timestep)\n",
    "    \n",
    "    r_i = np.array([[p.x, p.y] for p in self.particles])\n",
    "    ang_vel_i = np.array([p.ang_vel for p in self.particles])\n",
    "    \n",
    "    for i in range(nsteps):\n",
    "        norm_i = np.sqrt((r_i ** 2).sum(axis=1))\n",
    "        v_i = r_i[:, [1, 0]]\n",
    "        v_i[:, 0] *= -1\n",
    "        v_i /= norm_i[:, np.newaxis]\n",
    "        d_i = timestep * ang_vel_i[:, np.newaxis] * v_i\n",
    "        r_i += d_i\n",
    "        \n",
    "        for i, p in enumerate(self.particles):\n",
    "            p.x, p.y = r_i[i]"
   ]
  },
  {
   "cell_type": "code",
   "execution_count": null,
   "metadata": {},
   "outputs": [],
   "source": [
    "def benchmark(npart=100, method='python'):\n",
    "    particles = [Particle(uniform(-1.0, 1.0),\n",
    "                          uniform(-1.0, 1.0),\n",
    "                          uniform(-1.0, 1.0))\n",
    "                          for i in range(npart)]\n",
    "    \n",
    "simulator = ParticleSimulator(particles)\n",
    "\n",
    "if method=='python':\n",
    "    simulator.evolve_python(0.1)\n",
    "elif method == 'numpy':\n",
    "    simulator.evolve_numpy(0.1)"
   ]
  },
  {
   "cell_type": "code",
   "execution_count": null,
   "metadata": {},
   "outputs": [],
   "source": [
    "from simul import benchmark\n",
    "%timeit benchmark(100, 'python')\n",
    "# 1 loops, best of 3: 614 ms per loop\n",
    "%timeit benchmark(100, 'numpy')\n",
    "# 1 loops, best of 3: 415 ms per loop"
   ]
  },
  {
   "cell_type": "code",
   "execution_count": null,
   "metadata": {},
   "outputs": [],
   "source": [
    "%timeit benchmark(1000, 'python')\n",
    "# 1 loops, best of 3: 6.13 s per loop\n",
    "%timeit benchmark(1000, 'numpy')\n",
    "# 1 loops, best of 3: 852 ms per loop"
   ]
  },
  {
   "cell_type": "markdown",
   "metadata": {
    "toc-hr-collapsed": true,
    "toc-nb-collapsed": true
   },
   "source": [
    "## 3.3 Reaching optimal performance with numexpr"
   ]
  },
  {
   "cell_type": "markdown",
   "metadata": {},
   "source": [
    "When handling complex expressions, NumPy stores intermediate results in memory. A package called *numexpr* optimizes and compiles array expressions on the fly. It works by optimizing the usage of the CPU cache and by taking advantage of multiple processors."
   ]
  },
  {
   "cell_type": "code",
   "execution_count": 135,
   "metadata": {},
   "outputs": [],
   "source": [
    "import numexpr as ne\n",
    "a = np.random.rand(10000)\n",
    "b = np.random.rand(10000)\n",
    "c = np.random.rand(10000)\n",
    "d = ne.evaluate('a + b * c')"
   ]
  },
  {
   "cell_type": "code",
   "execution_count": 136,
   "metadata": {},
   "outputs": [
    {
     "name": "stdout",
     "output_type": "stream",
     "text": [
      "61.1 µs ± 3.46 µs per loop (mean ± std. dev. of 7 runs, 10000 loops each)\n"
     ]
    }
   ],
   "source": [
    "%timeit ne.evaluate('a + b * c')"
   ]
  },
  {
   "cell_type": "code",
   "execution_count": 137,
   "metadata": {},
   "outputs": [
    {
     "name": "stdout",
     "output_type": "stream",
     "text": [
      "9.19 µs ± 218 ns per loop (mean ± std. dev. of 7 runs, 100000 loops each)\n"
     ]
    }
   ],
   "source": [
    "%timeit a + b * c"
   ]
  },
  {
   "cell_type": "code",
   "execution_count": null,
   "metadata": {},
   "outputs": [],
   "source": [
    "x_ij = x_j - x_i\n",
    "y_ij = y_j - y_i\n",
    "\n",
    "d_ij = sqrt(x_ij**2 + y_ij**2)\n",
    "\n",
    "r = np.random.rand(10000, 2)\n",
    "r_i = r[:, np.newaxis]\n",
    "r_j = r[np.newaxis, :]\n",
    "d_ij = r_j - r_i\n",
    "\n",
    "d_ij = np.sqrt((d_ij ** 2).sum(axis=2))"
   ]
  },
  {
   "cell_type": "code",
   "execution_count": null,
   "metadata": {},
   "outputs": [],
   "source": [
    "r = np.random(10000, 2)\n",
    "r_i = r[:, np.newaxis]\n",
    "r_j = r[np.newaxis, :]\n",
    "\n",
    "d_ij = ne.evaluate('sum((r_j - r_i)**2, 2)')\n",
    "d_ij = ne.evaluate('sqrt(d_ij)')\n",
    "\n",
    "from distance_matrix import (distance_matrix_numpy, distance_matrix_numexpr)\n",
    "\n",
    "%timeit distance_matrix_numpy(10000)\n",
    "# 1 loops, best of 3: 3.56 s per loop\n",
    "%timeit distance_matrix_numexpr(10000)\n",
    "# 1 loops, best of 3: 858 ms per loop"
   ]
  },
  {
   "cell_type": "markdown",
   "metadata": {},
   "source": [
    "The numexpr package can be used every time you need to optimize a NumPy expression that involves large arrays and complex operations, and you can do so with minimal changes in the code"
   ]
  },
  {
   "cell_type": "markdown",
   "metadata": {
    "toc-hr-collapsed": true,
    "toc-nb-collapsed": true
   },
   "source": [
    "## 3.4 Pandas"
   ]
  },
  {
   "cell_type": "markdown",
   "metadata": {
    "toc-hr-collapsed": true,
    "toc-nb-collapsed": true
   },
   "source": [
    "### 3.4.1 Pandas fundamentals"
   ]
  },
  {
   "cell_type": "markdown",
   "metadata": {},
   "source": [
    "While NumPy deals mostly with *arrays*, Pandas main data structures are *pandas.Series*, *pandas.DataFrame*, and *pandas.Panel*."
   ]
  },
  {
   "cell_type": "markdown",
   "metadata": {},
   "source": [
    "The main difference between a pd.Series object and an np.array is that a pd.Series object associates a specific key to each element of an array"
   ]
  },
  {
   "cell_type": "code",
   "execution_count": 139,
   "metadata": {},
   "outputs": [
    {
     "data": {
      "text/plain": [
       "0     True\n",
       "1     True\n",
       "2    False\n",
       "3    False\n",
       "dtype: bool"
      ]
     },
     "execution_count": 139,
     "metadata": {},
     "output_type": "execute_result"
    }
   ],
   "source": [
    "import pandas as pd\n",
    "\n",
    "patients = [0,1,2,3]\n",
    "effective = [True, True, False, False]\n",
    "\n",
    "effective_series = pd.Series(effective, index = patients)\n",
    "effective_series"
   ]
  },
  {
   "cell_type": "markdown",
   "metadata": {},
   "source": [
    "In Pandas, keys are not limited to integers but can also be strings, floating point numbers, and also generic (hashable) Python objects"
   ]
  },
  {
   "cell_type": "code",
   "execution_count": 141,
   "metadata": {},
   "outputs": [
    {
     "data": {
      "text/plain": [
       "a     True\n",
       "b     True\n",
       "c    False\n",
       "d    False\n",
       "dtype: bool"
      ]
     },
     "execution_count": 141,
     "metadata": {},
     "output_type": "execute_result"
    }
   ],
   "source": [
    "patients = ['a','b','c','d']\n",
    "effective = [True, True, False, False]\n",
    "\n",
    "effective_series = pd.Series(effective, index = patients)\n",
    "effective_series"
   ]
  },
  {
   "cell_type": "markdown",
   "metadata": {},
   "source": [
    "An interesting observation is that, while NumPy arrays can be thought of as a contiguous collection of values similar to Python lists, the Pandas pd.Series object can be thought of as a structure that maps keys to values, similar to Python dictionaries."
   ]
  },
  {
   "cell_type": "markdown",
   "metadata": {},
   "source": [
    "pd.DataFrame can be initialized, similarly to a pd.Series object, by passing a dictionary of columns and an index. "
   ]
  },
  {
   "cell_type": "code",
   "execution_count": 142,
   "metadata": {},
   "outputs": [
    {
     "data": {
      "text/html": [
       "<div>\n",
       "<style scoped>\n",
       "    .dataframe tbody tr th:only-of-type {\n",
       "        vertical-align: middle;\n",
       "    }\n",
       "\n",
       "    .dataframe tbody tr th {\n",
       "        vertical-align: top;\n",
       "    }\n",
       "\n",
       "    .dataframe thead th {\n",
       "        text-align: right;\n",
       "    }\n",
       "</style>\n",
       "<table border=\"1\" class=\"dataframe\">\n",
       "  <thead>\n",
       "    <tr style=\"text-align: right;\">\n",
       "      <th></th>\n",
       "      <th>sys_initial</th>\n",
       "      <th>dia_initial</th>\n",
       "      <th>sys_final</th>\n",
       "      <th>dia_final</th>\n",
       "    </tr>\n",
       "  </thead>\n",
       "  <tbody>\n",
       "    <tr>\n",
       "      <th>a</th>\n",
       "      <td>120</td>\n",
       "      <td>75</td>\n",
       "      <td>115</td>\n",
       "      <td>70</td>\n",
       "    </tr>\n",
       "    <tr>\n",
       "      <th>b</th>\n",
       "      <td>126</td>\n",
       "      <td>85</td>\n",
       "      <td>123</td>\n",
       "      <td>82</td>\n",
       "    </tr>\n",
       "    <tr>\n",
       "      <th>c</th>\n",
       "      <td>130</td>\n",
       "      <td>90</td>\n",
       "      <td>130</td>\n",
       "      <td>92</td>\n",
       "    </tr>\n",
       "    <tr>\n",
       "      <th>d</th>\n",
       "      <td>115</td>\n",
       "      <td>87</td>\n",
       "      <td>118</td>\n",
       "      <td>87</td>\n",
       "    </tr>\n",
       "  </tbody>\n",
       "</table>\n",
       "</div>"
      ],
      "text/plain": [
       "   sys_initial  dia_initial  sys_final  dia_final\n",
       "a          120           75        115         70\n",
       "b          126           85        123         82\n",
       "c          130           90        130         92\n",
       "d          115           87        118         87"
      ]
     },
     "execution_count": 142,
     "metadata": {},
     "output_type": "execute_result"
    }
   ],
   "source": [
    "patients = ['a','b','c','d']\n",
    "\n",
    "columns = {\n",
    "    \"sys_initial\": [120, 126, 130, 115],\n",
    "    \"dia_initial\": [75, 85, 90, 87],\n",
    "    \"sys_final\": [115, 123, 130, 118],\n",
    "    \"dia_final\": [70, 82, 92, 87]\n",
    "}\n",
    "\n",
    "df = pd.DataFrame(columns, index = patients)\n",
    "df"
   ]
  },
  {
   "cell_type": "markdown",
   "metadata": {},
   "source": [
    "pd.DataFrame as a collection of pd.Series"
   ]
  },
  {
   "cell_type": "code",
   "execution_count": 143,
   "metadata": {},
   "outputs": [
    {
     "data": {
      "text/html": [
       "<div>\n",
       "<style scoped>\n",
       "    .dataframe tbody tr th:only-of-type {\n",
       "        vertical-align: middle;\n",
       "    }\n",
       "\n",
       "    .dataframe tbody tr th {\n",
       "        vertical-align: top;\n",
       "    }\n",
       "\n",
       "    .dataframe thead th {\n",
       "        text-align: right;\n",
       "    }\n",
       "</style>\n",
       "<table border=\"1\" class=\"dataframe\">\n",
       "  <thead>\n",
       "    <tr style=\"text-align: right;\">\n",
       "      <th></th>\n",
       "      <th>sys_initial</th>\n",
       "      <th>dia_initial</th>\n",
       "      <th>sys_final</th>\n",
       "      <th>dia_final</th>\n",
       "    </tr>\n",
       "  </thead>\n",
       "  <tbody>\n",
       "    <tr>\n",
       "      <th>a</th>\n",
       "      <td>120</td>\n",
       "      <td>75</td>\n",
       "      <td>115</td>\n",
       "      <td>70</td>\n",
       "    </tr>\n",
       "    <tr>\n",
       "      <th>b</th>\n",
       "      <td>126</td>\n",
       "      <td>85</td>\n",
       "      <td>123</td>\n",
       "      <td>82</td>\n",
       "    </tr>\n",
       "    <tr>\n",
       "      <th>c</th>\n",
       "      <td>130</td>\n",
       "      <td>90</td>\n",
       "      <td>130</td>\n",
       "      <td>92</td>\n",
       "    </tr>\n",
       "    <tr>\n",
       "      <th>d</th>\n",
       "      <td>115</td>\n",
       "      <td>87</td>\n",
       "      <td>118</td>\n",
       "      <td>87</td>\n",
       "    </tr>\n",
       "  </tbody>\n",
       "</table>\n",
       "</div>"
      ],
      "text/plain": [
       "   sys_initial  dia_initial  sys_final  dia_final\n",
       "a          120           75        115         70\n",
       "b          126           85        123         82\n",
       "c          130           90        130         92\n",
       "d          115           87        118         87"
      ]
     },
     "execution_count": 143,
     "metadata": {},
     "output_type": "execute_result"
    }
   ],
   "source": [
    "columns = {\n",
    "    \"sys_initial\": pd.Series([120, 126, 130, 115], index=patients),\n",
    "    \"dia_initial\": pd.Series([75, 85, 90, 87], index=patients),\n",
    "    \"sys_final\": pd.Series([115, 123, 130, 118], index=patients),\n",
    "    \"dia_final\": pd.Series([70, 82, 92, 87], index=patients)\n",
    "}\n",
    "\n",
    "df = pd.DataFrame(columns)\n",
    "df"
   ]
  },
  {
   "cell_type": "code",
   "execution_count": 144,
   "metadata": {},
   "outputs": [
    {
     "data": {
      "text/plain": [
       "a     True\n",
       "b     True\n",
       "c    False\n",
       "d    False\n",
       "dtype: bool"
      ]
     },
     "execution_count": 144,
     "metadata": {},
     "output_type": "execute_result"
    }
   ],
   "source": [
    "effective_series.head()"
   ]
  },
  {
   "cell_type": "code",
   "execution_count": 145,
   "metadata": {},
   "outputs": [
    {
     "data": {
      "text/html": [
       "<div>\n",
       "<style scoped>\n",
       "    .dataframe tbody tr th:only-of-type {\n",
       "        vertical-align: middle;\n",
       "    }\n",
       "\n",
       "    .dataframe tbody tr th {\n",
       "        vertical-align: top;\n",
       "    }\n",
       "\n",
       "    .dataframe thead th {\n",
       "        text-align: right;\n",
       "    }\n",
       "</style>\n",
       "<table border=\"1\" class=\"dataframe\">\n",
       "  <thead>\n",
       "    <tr style=\"text-align: right;\">\n",
       "      <th></th>\n",
       "      <th>sys_initial</th>\n",
       "      <th>dia_initial</th>\n",
       "      <th>sys_final</th>\n",
       "      <th>dia_final</th>\n",
       "    </tr>\n",
       "  </thead>\n",
       "  <tbody>\n",
       "    <tr>\n",
       "      <th>a</th>\n",
       "      <td>120</td>\n",
       "      <td>75</td>\n",
       "      <td>115</td>\n",
       "      <td>70</td>\n",
       "    </tr>\n",
       "    <tr>\n",
       "      <th>b</th>\n",
       "      <td>126</td>\n",
       "      <td>85</td>\n",
       "      <td>123</td>\n",
       "      <td>82</td>\n",
       "    </tr>\n",
       "    <tr>\n",
       "      <th>c</th>\n",
       "      <td>130</td>\n",
       "      <td>90</td>\n",
       "      <td>130</td>\n",
       "      <td>92</td>\n",
       "    </tr>\n",
       "    <tr>\n",
       "      <th>d</th>\n",
       "      <td>115</td>\n",
       "      <td>87</td>\n",
       "      <td>118</td>\n",
       "      <td>87</td>\n",
       "    </tr>\n",
       "  </tbody>\n",
       "</table>\n",
       "</div>"
      ],
      "text/plain": [
       "   sys_initial  dia_initial  sys_final  dia_final\n",
       "a          120           75        115         70\n",
       "b          126           85        123         82\n",
       "c          130           90        130         92\n",
       "d          115           87        118         87"
      ]
     },
     "execution_count": 145,
     "metadata": {},
     "output_type": "execute_result"
    }
   ],
   "source": [
    "df.head()"
   ]
  },
  {
   "cell_type": "markdown",
   "metadata": {},
   "source": [
    "Just like a pd.DataFrame can be used to store a collection of pd.Series, you can use a pd.Panel to store a collection of pd.DataFrames."
   ]
  },
  {
   "cell_type": "markdown",
   "metadata": {},
   "source": [
    "#### Indexing Series and DataFrame objects"
   ]
  },
  {
   "cell_type": "code",
   "execution_count": 146,
   "metadata": {},
   "outputs": [
    {
     "data": {
      "text/plain": [
       "True"
      ]
     },
     "execution_count": 146,
     "metadata": {},
     "output_type": "execute_result"
    }
   ],
   "source": [
    "effective_series.loc['a']"
   ]
  },
  {
   "cell_type": "code",
   "execution_count": 147,
   "metadata": {},
   "outputs": [
    {
     "data": {
      "text/plain": [
       "True"
      ]
     },
     "execution_count": 147,
     "metadata": {},
     "output_type": "execute_result"
    }
   ],
   "source": [
    "effective_series.iloc[0]"
   ]
  },
  {
   "cell_type": "code",
   "execution_count": 153,
   "metadata": {},
   "outputs": [
    {
     "data": {
      "text/plain": [
       "True"
      ]
     },
     "execution_count": 153,
     "metadata": {},
     "output_type": "execute_result"
    }
   ],
   "source": [
    "effective_series['a']"
   ]
  },
  {
   "cell_type": "code",
   "execution_count": 154,
   "metadata": {},
   "outputs": [
    {
     "data": {
      "text/plain": [
       "True"
      ]
     },
     "execution_count": 154,
     "metadata": {},
     "output_type": "execute_result"
    }
   ],
   "source": [
    "effective_series[0]"
   ]
  },
  {
   "cell_type": "code",
   "execution_count": 155,
   "metadata": {},
   "outputs": [
    {
     "data": {
      "text/plain": [
       "sys_initial    120\n",
       "dia_initial     75\n",
       "sys_final      115\n",
       "dia_final       70\n",
       "Name: a, dtype: int64"
      ]
     },
     "execution_count": 155,
     "metadata": {},
     "output_type": "execute_result"
    }
   ],
   "source": [
    "df.loc['a']"
   ]
  },
  {
   "cell_type": "code",
   "execution_count": 156,
   "metadata": {},
   "outputs": [
    {
     "data": {
      "text/plain": [
       "sys_initial    120\n",
       "dia_initial     75\n",
       "sys_final      115\n",
       "dia_final       70\n",
       "Name: a, dtype: int64"
      ]
     },
     "execution_count": 156,
     "metadata": {},
     "output_type": "execute_result"
    }
   ],
   "source": [
    "df.iloc[0]"
   ]
  },
  {
   "cell_type": "code",
   "execution_count": 159,
   "metadata": {},
   "outputs": [
    {
     "data": {
      "text/plain": [
       "120"
      ]
     },
     "execution_count": 159,
     "metadata": {},
     "output_type": "execute_result"
    }
   ],
   "source": [
    "df.loc['a', 'sys_initial']"
   ]
  },
  {
   "cell_type": "code",
   "execution_count": 160,
   "metadata": {},
   "outputs": [
    {
     "data": {
      "text/plain": [
       "120"
      ]
     },
     "execution_count": 160,
     "metadata": {},
     "output_type": "execute_result"
    }
   ],
   "source": [
    "df.loc['a'].loc['sys_initial']"
   ]
  },
  {
   "cell_type": "code",
   "execution_count": 161,
   "metadata": {},
   "outputs": [
    {
     "data": {
      "text/plain": [
       "75"
      ]
     },
     "execution_count": 161,
     "metadata": {},
     "output_type": "execute_result"
    }
   ],
   "source": [
    "df.iloc[0,1]"
   ]
  },
  {
   "cell_type": "code",
   "execution_count": 162,
   "metadata": {},
   "outputs": [
    {
     "data": {
      "text/plain": [
       "75"
      ]
     },
     "execution_count": 162,
     "metadata": {},
     "output_type": "execute_result"
    }
   ],
   "source": [
    "df.iloc[0].iloc[1]"
   ]
  },
  {
   "cell_type": "code",
   "execution_count": 164,
   "metadata": {},
   "outputs": [
    {
     "data": {
      "text/plain": [
       "a    120\n",
       "b    126\n",
       "c    130\n",
       "d    115\n",
       "Name: sys_initial, dtype: int64"
      ]
     },
     "execution_count": 164,
     "metadata": {},
     "output_type": "execute_result"
    }
   ],
   "source": [
    "df['sys_initial']"
   ]
  },
  {
   "cell_type": "code",
   "execution_count": 166,
   "metadata": {},
   "outputs": [
    {
     "data": {
      "text/plain": [
       "a    120\n",
       "b    126\n",
       "c    130\n",
       "d    115\n",
       "Name: sys_initial, dtype: int64"
      ]
     },
     "execution_count": 166,
     "metadata": {},
     "output_type": "execute_result"
    }
   ],
   "source": [
    "df.sys_initial"
   ]
  },
  {
   "cell_type": "code",
   "execution_count": 167,
   "metadata": {},
   "outputs": [
    {
     "data": {
      "text/plain": [
       "a    115\n",
       "b    123\n",
       "c    130\n",
       "d    118\n",
       "Name: sys_final, dtype: int64"
      ]
     },
     "execution_count": 167,
     "metadata": {},
     "output_type": "execute_result"
    }
   ],
   "source": [
    "df[df.columns[2]]"
   ]
  },
  {
   "cell_type": "code",
   "execution_count": 168,
   "metadata": {},
   "outputs": [
    {
     "data": {
      "text/plain": [
       "a    115\n",
       "b    123\n",
       "c    130\n",
       "d    118\n",
       "Name: sys_final, dtype: int64"
      ]
     },
     "execution_count": 168,
     "metadata": {},
     "output_type": "execute_result"
    }
   ],
   "source": [
    "df.iloc[:,2]"
   ]
  },
  {
   "cell_type": "markdown",
   "metadata": {},
   "source": [
    "There are some differences between an index in Pandas and a dictionary. For example, while the keys of a dictionary cannot contain duplicates, Pandas indexes can contain repeated elements. This flexibility, however, comes at a cost--if we try to access an element in a non-unique index, we may incur substantial performance loss--the access will be O(N), like a linear search, rather than O(1), like a dictionary"
   ]
  },
  {
   "cell_type": "markdown",
   "metadata": {},
   "source": [
    "A way to mitigate this effect is to sort the index; this will allow Pandas to use a binary search algorithm with a computational complexity of O(log(N)), which is much better. This can be accomplished using the pd.Series.sort_index function"
   ]
  },
  {
   "cell_type": "code",
   "execution_count": 169,
   "metadata": {},
   "outputs": [],
   "source": [
    "# Create a series with duplicate index\n",
    "index = list(range(1000)) + list(range(1000))\n",
    "\n",
    "# Accessing a normal series is a O(N) operation \n",
    "series = pd.Series(range(2000), index = index)\n",
    "\n",
    "# Sorting the will improve look-up scaling to O(log(N))\n",
    "series.sort_index(inplace = True)"
   ]
  },
  {
   "cell_type": "markdown",
   "metadata": {},
   "source": [
    "Unique index, O(1)"
   ]
  },
  {
   "cell_type": "markdown",
   "metadata": {},
   "source": [
    "Non unique index, O(N)"
   ]
  },
  {
   "cell_type": "markdown",
   "metadata": {},
   "source": [
    "Non unique sorted index, O(log(N))"
   ]
  },
  {
   "cell_type": "markdown",
   "metadata": {
    "toc-hr-collapsed": true,
    "toc-nb-collapsed": true
   },
   "source": [
    "### 3.4.2 Database-style operations with pandas"
   ]
  },
  {
   "cell_type": "markdown",
   "metadata": {},
   "source": [
    "#### Mapping"
   ]
  },
  {
   "cell_type": "markdown",
   "metadata": {},
   "source": [
    "Pandas supports element-wise operations just like NumPy (after all, pd.Series stores their data using np.array)"
   ]
  },
  {
   "cell_type": "code",
   "execution_count": 171,
   "metadata": {},
   "outputs": [
    {
     "data": {
      "text/plain": [
       "a    4.787492\n",
       "b    4.836282\n",
       "c    4.867534\n",
       "d    4.744932\n",
       "Name: sys_initial, dtype: float64"
      ]
     },
     "execution_count": 171,
     "metadata": {},
     "output_type": "execute_result"
    }
   ],
   "source": [
    "np.log(df.sys_initial) # Logarithm of a series"
   ]
  },
  {
   "cell_type": "code",
   "execution_count": 172,
   "metadata": {},
   "outputs": [
    {
     "data": {
      "text/plain": [
       "a    14400\n",
       "b    15876\n",
       "c    16900\n",
       "d    13225\n",
       "Name: sys_initial, dtype: int64"
      ]
     },
     "execution_count": 172,
     "metadata": {},
     "output_type": "execute_result"
    }
   ],
   "source": [
    "df.sys_initial ** 2 # Square a series"
   ]
  },
  {
   "cell_type": "code",
   "execution_count": 173,
   "metadata": {},
   "outputs": [
    {
     "data": {
      "text/html": [
       "<div>\n",
       "<style scoped>\n",
       "    .dataframe tbody tr th:only-of-type {\n",
       "        vertical-align: middle;\n",
       "    }\n",
       "\n",
       "    .dataframe tbody tr th {\n",
       "        vertical-align: top;\n",
       "    }\n",
       "\n",
       "    .dataframe thead th {\n",
       "        text-align: right;\n",
       "    }\n",
       "</style>\n",
       "<table border=\"1\" class=\"dataframe\">\n",
       "  <thead>\n",
       "    <tr style=\"text-align: right;\">\n",
       "      <th></th>\n",
       "      <th>sys_initial</th>\n",
       "      <th>dia_initial</th>\n",
       "      <th>sys_final</th>\n",
       "      <th>dia_final</th>\n",
       "    </tr>\n",
       "  </thead>\n",
       "  <tbody>\n",
       "    <tr>\n",
       "      <th>a</th>\n",
       "      <td>4.787492</td>\n",
       "      <td>4.317488</td>\n",
       "      <td>4.744932</td>\n",
       "      <td>4.248495</td>\n",
       "    </tr>\n",
       "    <tr>\n",
       "      <th>b</th>\n",
       "      <td>4.836282</td>\n",
       "      <td>4.442651</td>\n",
       "      <td>4.812184</td>\n",
       "      <td>4.406719</td>\n",
       "    </tr>\n",
       "    <tr>\n",
       "      <th>c</th>\n",
       "      <td>4.867534</td>\n",
       "      <td>4.499810</td>\n",
       "      <td>4.867534</td>\n",
       "      <td>4.521789</td>\n",
       "    </tr>\n",
       "    <tr>\n",
       "      <th>d</th>\n",
       "      <td>4.744932</td>\n",
       "      <td>4.465908</td>\n",
       "      <td>4.770685</td>\n",
       "      <td>4.465908</td>\n",
       "    </tr>\n",
       "  </tbody>\n",
       "</table>\n",
       "</div>"
      ],
      "text/plain": [
       "   sys_initial  dia_initial  sys_final  dia_final\n",
       "a     4.787492     4.317488   4.744932   4.248495\n",
       "b     4.836282     4.442651   4.812184   4.406719\n",
       "c     4.867534     4.499810   4.867534   4.521789\n",
       "d     4.744932     4.465908   4.770685   4.465908"
      ]
     },
     "execution_count": 173,
     "metadata": {},
     "output_type": "execute_result"
    }
   ],
   "source": [
    "np.log(df) # Logarithm of a dataframe"
   ]
  },
  {
   "cell_type": "code",
   "execution_count": 174,
   "metadata": {},
   "outputs": [
    {
     "data": {
      "text/html": [
       "<div>\n",
       "<style scoped>\n",
       "    .dataframe tbody tr th:only-of-type {\n",
       "        vertical-align: middle;\n",
       "    }\n",
       "\n",
       "    .dataframe tbody tr th {\n",
       "        vertical-align: top;\n",
       "    }\n",
       "\n",
       "    .dataframe thead th {\n",
       "        text-align: right;\n",
       "    }\n",
       "</style>\n",
       "<table border=\"1\" class=\"dataframe\">\n",
       "  <thead>\n",
       "    <tr style=\"text-align: right;\">\n",
       "      <th></th>\n",
       "      <th>sys_initial</th>\n",
       "      <th>dia_initial</th>\n",
       "      <th>sys_final</th>\n",
       "      <th>dia_final</th>\n",
       "    </tr>\n",
       "  </thead>\n",
       "  <tbody>\n",
       "    <tr>\n",
       "      <th>a</th>\n",
       "      <td>14400</td>\n",
       "      <td>5625</td>\n",
       "      <td>13225</td>\n",
       "      <td>4900</td>\n",
       "    </tr>\n",
       "    <tr>\n",
       "      <th>b</th>\n",
       "      <td>15876</td>\n",
       "      <td>7225</td>\n",
       "      <td>15129</td>\n",
       "      <td>6724</td>\n",
       "    </tr>\n",
       "    <tr>\n",
       "      <th>c</th>\n",
       "      <td>16900</td>\n",
       "      <td>8100</td>\n",
       "      <td>16900</td>\n",
       "      <td>8464</td>\n",
       "    </tr>\n",
       "    <tr>\n",
       "      <th>d</th>\n",
       "      <td>13225</td>\n",
       "      <td>7569</td>\n",
       "      <td>13924</td>\n",
       "      <td>7569</td>\n",
       "    </tr>\n",
       "  </tbody>\n",
       "</table>\n",
       "</div>"
      ],
      "text/plain": [
       "   sys_initial  dia_initial  sys_final  dia_final\n",
       "a        14400         5625      13225       4900\n",
       "b        15876         7225      15129       6724\n",
       "c        16900         8100      16900       8464\n",
       "d        13225         7569      13924       7569"
      ]
     },
     "execution_count": 174,
     "metadata": {},
     "output_type": "execute_result"
    }
   ],
   "source": [
    "df ** 2 # Square of a dataframe"
   ]
  },
  {
   "cell_type": "markdown",
   "metadata": {},
   "source": [
    "Perform element-wise operations between two pd.Series in a way similar to NumPy. An important difference is that the operands will be matched by key, rather than by position; if there is a mismatch in the index, the resulting value will be set to NaN"
   ]
  },
  {
   "cell_type": "code",
   "execution_count": 175,
   "metadata": {},
   "outputs": [
    {
     "data": {
      "text/plain": [
       "a    5\n",
       "b    7\n",
       "c    9\n",
       "dtype: int64"
      ]
     },
     "execution_count": 175,
     "metadata": {},
     "output_type": "execute_result"
    }
   ],
   "source": [
    "# Matching index\n",
    "a = pd.Series([1,2,3], index = ['a','b','c'])\n",
    "b = pd.Series([4,5,6], index = ['a','b','c'])\n",
    "a + b"
   ]
  },
  {
   "cell_type": "code",
   "execution_count": 177,
   "metadata": {},
   "outputs": [
    {
     "data": {
      "text/plain": [
       "a    5.0\n",
       "b    7.0\n",
       "c    NaN\n",
       "d    NaN\n",
       "dtype: float64"
      ]
     },
     "execution_count": 177,
     "metadata": {},
     "output_type": "execute_result"
    }
   ],
   "source": [
    "# Mismatching index\n",
    "b = pd.Series([4,5,6], index = ['a','b','d'])\n",
    "a + b "
   ]
  },
  {
   "cell_type": "markdown",
   "metadata": {},
   "source": [
    "The pd.Series.map method can be used to execute a function to each value and return a pd.Series containing each result"
   ]
  },
  {
   "cell_type": "code",
   "execution_count": 178,
   "metadata": {},
   "outputs": [
    {
     "data": {
      "text/plain": [
       "a    *1*\n",
       "b    *2*\n",
       "c    *3*\n",
       "dtype: object"
      ]
     },
     "execution_count": 178,
     "metadata": {},
     "output_type": "execute_result"
    }
   ],
   "source": [
    "a = pd.Series([1,2,3], index = ['a','b','c'])\n",
    "\n",
    "def superstar(x):\n",
    "    return '*' + str(x) + '*'\n",
    "\n",
    "a.map(superstar)"
   ]
  },
  {
   "cell_type": "markdown",
   "metadata": {},
   "source": [
    "The pd.DataFrame.applymap function is the equivalent of pd.Series.map, but for DataFrames"
   ]
  },
  {
   "cell_type": "code",
   "execution_count": 179,
   "metadata": {},
   "outputs": [
    {
     "data": {
      "text/html": [
       "<div>\n",
       "<style scoped>\n",
       "    .dataframe tbody tr th:only-of-type {\n",
       "        vertical-align: middle;\n",
       "    }\n",
       "\n",
       "    .dataframe tbody tr th {\n",
       "        vertical-align: top;\n",
       "    }\n",
       "\n",
       "    .dataframe thead th {\n",
       "        text-align: right;\n",
       "    }\n",
       "</style>\n",
       "<table border=\"1\" class=\"dataframe\">\n",
       "  <thead>\n",
       "    <tr style=\"text-align: right;\">\n",
       "      <th></th>\n",
       "      <th>sys_initial</th>\n",
       "      <th>dia_initial</th>\n",
       "      <th>sys_final</th>\n",
       "      <th>dia_final</th>\n",
       "    </tr>\n",
       "  </thead>\n",
       "  <tbody>\n",
       "    <tr>\n",
       "      <th>a</th>\n",
       "      <td>*120*</td>\n",
       "      <td>*75*</td>\n",
       "      <td>*115*</td>\n",
       "      <td>*70*</td>\n",
       "    </tr>\n",
       "    <tr>\n",
       "      <th>b</th>\n",
       "      <td>*126*</td>\n",
       "      <td>*85*</td>\n",
       "      <td>*123*</td>\n",
       "      <td>*82*</td>\n",
       "    </tr>\n",
       "    <tr>\n",
       "      <th>c</th>\n",
       "      <td>*130*</td>\n",
       "      <td>*90*</td>\n",
       "      <td>*130*</td>\n",
       "      <td>*92*</td>\n",
       "    </tr>\n",
       "    <tr>\n",
       "      <th>d</th>\n",
       "      <td>*115*</td>\n",
       "      <td>*87*</td>\n",
       "      <td>*118*</td>\n",
       "      <td>*87*</td>\n",
       "    </tr>\n",
       "  </tbody>\n",
       "</table>\n",
       "</div>"
      ],
      "text/plain": [
       "  sys_initial dia_initial sys_final dia_final\n",
       "a       *120*        *75*     *115*      *70*\n",
       "b       *126*        *85*     *123*      *82*\n",
       "c       *130*        *90*     *130*      *92*\n",
       "d       *115*        *87*     *118*      *87*"
      ]
     },
     "execution_count": 179,
     "metadata": {},
     "output_type": "execute_result"
    }
   ],
   "source": [
    "df.applymap(superstar)"
   ]
  },
  {
   "cell_type": "markdown",
   "metadata": {},
   "source": [
    "Tthe pd.DataFrame.apply function can apply the passed function to each column or each row, rather than element-wise. The selection can be performed with the argument axis, where a value of 0 (the default) corresponds to columns, and 1 corresponds to rows. Also, note that the return value of apply is a pd.Series"
   ]
  },
  {
   "cell_type": "code",
   "execution_count": 181,
   "metadata": {},
   "outputs": [
    {
     "data": {
      "text/plain": [
       "sys_initial    *a    120\\nb    126\\nc    130\\nd    115\\nName:...\n",
       "dia_initial    *a    75\\nb    85\\nc    90\\nd    87\\nName: dia...\n",
       "sys_final      *a    115\\nb    123\\nc    130\\nd    118\\nName:...\n",
       "dia_final      *a    70\\nb    82\\nc    92\\nd    87\\nName: dia...\n",
       "dtype: object"
      ]
     },
     "execution_count": 181,
     "metadata": {},
     "output_type": "execute_result"
    }
   ],
   "source": [
    "df.apply(superstar, axis = 0)"
   ]
  },
  {
   "cell_type": "code",
   "execution_count": 182,
   "metadata": {},
   "outputs": [
    {
     "data": {
      "text/plain": [
       "a    *sys_initial    120\\ndia_initial     75\\nsys_f...\n",
       "b    *sys_initial    126\\ndia_initial     85\\nsys_f...\n",
       "c    *sys_initial    130\\ndia_initial     90\\nsys_f...\n",
       "d    *sys_initial    115\\ndia_initial     87\\nsys_f...\n",
       "dtype: object"
      ]
     },
     "execution_count": 182,
     "metadata": {},
     "output_type": "execute_result"
    }
   ],
   "source": [
    "df.apply(superstar, axis = 1)"
   ]
  },
  {
   "cell_type": "markdown",
   "metadata": {},
   "source": [
    "Pandas also supports efficient numexpr-style expressions with the convenient *eval* method"
   ]
  },
  {
   "cell_type": "code",
   "execution_count": 183,
   "metadata": {},
   "outputs": [
    {
     "data": {
      "text/plain": [
       "a   -5\n",
       "b   -3\n",
       "c    0\n",
       "d    3\n",
       "dtype: int64"
      ]
     },
     "execution_count": 183,
     "metadata": {},
     "output_type": "execute_result"
    }
   ],
   "source": [
    "df.eval('sys_final - sys_initial')"
   ]
  },
  {
   "cell_type": "markdown",
   "metadata": {},
   "source": [
    "It is also possible to create new columns using the assignment operator in the pd.DataFrame.eval expression. Note that, if the inplace=True argument is used, the operation will be applied directly on the original pd.DataFrame; otherwise, the function will return a new dataframe."
   ]
  },
  {
   "cell_type": "code",
   "execution_count": 185,
   "metadata": {},
   "outputs": [
    {
     "data": {
      "text/html": [
       "<div>\n",
       "<style scoped>\n",
       "    .dataframe tbody tr th:only-of-type {\n",
       "        vertical-align: middle;\n",
       "    }\n",
       "\n",
       "    .dataframe tbody tr th {\n",
       "        vertical-align: top;\n",
       "    }\n",
       "\n",
       "    .dataframe thead th {\n",
       "        text-align: right;\n",
       "    }\n",
       "</style>\n",
       "<table border=\"1\" class=\"dataframe\">\n",
       "  <thead>\n",
       "    <tr style=\"text-align: right;\">\n",
       "      <th></th>\n",
       "      <th>sys_initial</th>\n",
       "      <th>dia_initial</th>\n",
       "      <th>sys_final</th>\n",
       "      <th>dia_final</th>\n",
       "      <th>sys_delta</th>\n",
       "    </tr>\n",
       "  </thead>\n",
       "  <tbody>\n",
       "    <tr>\n",
       "      <th>a</th>\n",
       "      <td>120</td>\n",
       "      <td>75</td>\n",
       "      <td>115</td>\n",
       "      <td>70</td>\n",
       "      <td>-5</td>\n",
       "    </tr>\n",
       "    <tr>\n",
       "      <th>b</th>\n",
       "      <td>126</td>\n",
       "      <td>85</td>\n",
       "      <td>123</td>\n",
       "      <td>82</td>\n",
       "      <td>-3</td>\n",
       "    </tr>\n",
       "    <tr>\n",
       "      <th>c</th>\n",
       "      <td>130</td>\n",
       "      <td>90</td>\n",
       "      <td>130</td>\n",
       "      <td>92</td>\n",
       "      <td>0</td>\n",
       "    </tr>\n",
       "    <tr>\n",
       "      <th>d</th>\n",
       "      <td>115</td>\n",
       "      <td>87</td>\n",
       "      <td>118</td>\n",
       "      <td>87</td>\n",
       "      <td>3</td>\n",
       "    </tr>\n",
       "  </tbody>\n",
       "</table>\n",
       "</div>"
      ],
      "text/plain": [
       "   sys_initial  dia_initial  sys_final  dia_final  sys_delta\n",
       "a          120           75        115         70         -5\n",
       "b          126           85        123         82         -3\n",
       "c          130           90        130         92          0\n",
       "d          115           87        118         87          3"
      ]
     },
     "execution_count": 185,
     "metadata": {},
     "output_type": "execute_result"
    }
   ],
   "source": [
    "df.eval(\"sys_delta = sys_final - sys_initial\", inplace=False)"
   ]
  },
  {
   "cell_type": "markdown",
   "metadata": {},
   "source": [
    "#### Grouping, aggregations, and transforms"
   ]
  },
  {
   "cell_type": "code",
   "execution_count": 187,
   "metadata": {},
   "outputs": [
    {
     "data": {
      "text/html": [
       "<div>\n",
       "<style scoped>\n",
       "    .dataframe tbody tr th:only-of-type {\n",
       "        vertical-align: middle;\n",
       "    }\n",
       "\n",
       "    .dataframe tbody tr th {\n",
       "        vertical-align: top;\n",
       "    }\n",
       "\n",
       "    .dataframe thead th {\n",
       "        text-align: right;\n",
       "    }\n",
       "</style>\n",
       "<table border=\"1\" class=\"dataframe\">\n",
       "  <thead>\n",
       "    <tr style=\"text-align: right;\">\n",
       "      <th></th>\n",
       "      <th>sys_initial</th>\n",
       "      <th>dia_initial</th>\n",
       "      <th>sys_final</th>\n",
       "      <th>dia_final</th>\n",
       "      <th>drug_admst</th>\n",
       "    </tr>\n",
       "  </thead>\n",
       "  <tbody>\n",
       "    <tr>\n",
       "      <th>a</th>\n",
       "      <td>120</td>\n",
       "      <td>75</td>\n",
       "      <td>115</td>\n",
       "      <td>70</td>\n",
       "      <td>True</td>\n",
       "    </tr>\n",
       "    <tr>\n",
       "      <th>b</th>\n",
       "      <td>126</td>\n",
       "      <td>85</td>\n",
       "      <td>123</td>\n",
       "      <td>82</td>\n",
       "      <td>True</td>\n",
       "    </tr>\n",
       "    <tr>\n",
       "      <th>c</th>\n",
       "      <td>130</td>\n",
       "      <td>90</td>\n",
       "      <td>130</td>\n",
       "      <td>92</td>\n",
       "      <td>True</td>\n",
       "    </tr>\n",
       "    <tr>\n",
       "      <th>d</th>\n",
       "      <td>115</td>\n",
       "      <td>87</td>\n",
       "      <td>118</td>\n",
       "      <td>87</td>\n",
       "      <td>True</td>\n",
       "    </tr>\n",
       "    <tr>\n",
       "      <th>e</th>\n",
       "      <td>150</td>\n",
       "      <td>90</td>\n",
       "      <td>130</td>\n",
       "      <td>85</td>\n",
       "      <td>False</td>\n",
       "    </tr>\n",
       "    <tr>\n",
       "      <th>f</th>\n",
       "      <td>117</td>\n",
       "      <td>74</td>\n",
       "      <td>121</td>\n",
       "      <td>74</td>\n",
       "      <td>False</td>\n",
       "    </tr>\n",
       "  </tbody>\n",
       "</table>\n",
       "</div>"
      ],
      "text/plain": [
       "   sys_initial  dia_initial  sys_final  dia_final  drug_admst\n",
       "a          120           75        115         70        True\n",
       "b          126           85        123         82        True\n",
       "c          130           90        130         92        True\n",
       "d          115           87        118         87        True\n",
       "e          150           90        130         85       False\n",
       "f          117           74        121         74       False"
      ]
     },
     "execution_count": 187,
     "metadata": {},
     "output_type": "execute_result"
    }
   ],
   "source": [
    "patients = ['a','b','c','d','e','f']\n",
    "\n",
    "columns = {\n",
    "    \"sys_initial\": [120, 126, 130, 115, 150, 117],\n",
    "    \"dia_initial\": [75, 85, 90, 87, 90, 74],\n",
    "    \"sys_final\": [115, 123, 130, 118, 130, 121],\n",
    "    \"dia_final\": [70, 82, 92, 87, 85, 74],\n",
    "    \"drug_admst\": [True, True, True, True, False, False]\n",
    "}\n",
    "\n",
    "df = pd.DataFrame(columns, index = patients)\n",
    "df"
   ]
  },
  {
   "cell_type": "code",
   "execution_count": 189,
   "metadata": {},
   "outputs": [
    {
     "name": "stdout",
     "output_type": "stream",
     "text": [
      "Value: False\n",
      "Group DataFrame:\n",
      "   sys_initial  dia_initial  sys_final  dia_final  drug_admst\n",
      "e          150           90        130         85       False\n",
      "f          117           74        121         74       False\n",
      "Value: True\n",
      "Group DataFrame:\n",
      "   sys_initial  dia_initial  sys_final  dia_final  drug_admst\n",
      "a          120           75        115         70        True\n",
      "b          126           85        123         82        True\n",
      "c          130           90        130         92        True\n",
      "d          115           87        118         87        True\n"
     ]
    }
   ],
   "source": [
    "df.groupby('drug_admst')\n",
    "\n",
    "for value, group in df.groupby('drug_admst'):\n",
    "    print(\"Value: {}\".format(value))\n",
    "    print(\"Group DataFrame:\")\n",
    "    print(group)"
   ]
  },
  {
   "cell_type": "code",
   "execution_count": 190,
   "metadata": {},
   "outputs": [
    {
     "data": {
      "text/html": [
       "<div>\n",
       "<style scoped>\n",
       "    .dataframe tbody tr th:only-of-type {\n",
       "        vertical-align: middle;\n",
       "    }\n",
       "\n",
       "    .dataframe tbody tr th {\n",
       "        vertical-align: top;\n",
       "    }\n",
       "\n",
       "    .dataframe thead th {\n",
       "        text-align: right;\n",
       "    }\n",
       "</style>\n",
       "<table border=\"1\" class=\"dataframe\">\n",
       "  <thead>\n",
       "    <tr style=\"text-align: right;\">\n",
       "      <th></th>\n",
       "      <th>sys_initial</th>\n",
       "      <th>dia_initial</th>\n",
       "      <th>sys_final</th>\n",
       "      <th>dia_final</th>\n",
       "    </tr>\n",
       "    <tr>\n",
       "      <th>drug_admst</th>\n",
       "      <th></th>\n",
       "      <th></th>\n",
       "      <th></th>\n",
       "      <th></th>\n",
       "    </tr>\n",
       "  </thead>\n",
       "  <tbody>\n",
       "    <tr>\n",
       "      <th>False</th>\n",
       "      <td>133.50</td>\n",
       "      <td>82.00</td>\n",
       "      <td>125.5</td>\n",
       "      <td>79.50</td>\n",
       "    </tr>\n",
       "    <tr>\n",
       "      <th>True</th>\n",
       "      <td>122.75</td>\n",
       "      <td>84.25</td>\n",
       "      <td>121.5</td>\n",
       "      <td>82.75</td>\n",
       "    </tr>\n",
       "  </tbody>\n",
       "</table>\n",
       "</div>"
      ],
      "text/plain": [
       "            sys_initial  dia_initial  sys_final  dia_final\n",
       "drug_admst                                                \n",
       "False            133.50        82.00      125.5      79.50\n",
       "True             122.75        84.25      121.5      82.75"
      ]
     },
     "execution_count": 190,
     "metadata": {},
     "output_type": "execute_result"
    }
   ],
   "source": [
    "df.groupby('drug_admst').agg(np.mean)"
   ]
  },
  {
   "cell_type": "markdown",
   "metadata": {},
   "source": [
    "It is also possible to perform processing on the DataFrame groups that do not represent a summarization. One common example of such an operation is filling in missing values. Those intermediate steps are called transforms"
   ]
  },
  {
   "cell_type": "code",
   "execution_count": 192,
   "metadata": {},
   "outputs": [
    {
     "data": {
      "text/html": [
       "<div>\n",
       "<style scoped>\n",
       "    .dataframe tbody tr th:only-of-type {\n",
       "        vertical-align: middle;\n",
       "    }\n",
       "\n",
       "    .dataframe tbody tr th {\n",
       "        vertical-align: top;\n",
       "    }\n",
       "\n",
       "    .dataframe thead th {\n",
       "        text-align: right;\n",
       "    }\n",
       "</style>\n",
       "<table border=\"1\" class=\"dataframe\">\n",
       "  <thead>\n",
       "    <tr style=\"text-align: right;\">\n",
       "      <th></th>\n",
       "      <th>sys_initial</th>\n",
       "      <th>dia_initial</th>\n",
       "      <th>sys_final</th>\n",
       "      <th>dia_final</th>\n",
       "    </tr>\n",
       "  </thead>\n",
       "  <tbody>\n",
       "    <tr>\n",
       "      <th>a</th>\n",
       "      <td>123.666667</td>\n",
       "      <td>75</td>\n",
       "      <td>115</td>\n",
       "      <td>70</td>\n",
       "    </tr>\n",
       "    <tr>\n",
       "      <th>b</th>\n",
       "      <td>126.000000</td>\n",
       "      <td>85</td>\n",
       "      <td>123</td>\n",
       "      <td>82</td>\n",
       "    </tr>\n",
       "    <tr>\n",
       "      <th>c</th>\n",
       "      <td>130.000000</td>\n",
       "      <td>90</td>\n",
       "      <td>130</td>\n",
       "      <td>92</td>\n",
       "    </tr>\n",
       "    <tr>\n",
       "      <th>d</th>\n",
       "      <td>115.000000</td>\n",
       "      <td>87</td>\n",
       "      <td>118</td>\n",
       "      <td>87</td>\n",
       "    </tr>\n",
       "    <tr>\n",
       "      <th>e</th>\n",
       "      <td>150.000000</td>\n",
       "      <td>90</td>\n",
       "      <td>130</td>\n",
       "      <td>85</td>\n",
       "    </tr>\n",
       "    <tr>\n",
       "      <th>f</th>\n",
       "      <td>117.000000</td>\n",
       "      <td>74</td>\n",
       "      <td>121</td>\n",
       "      <td>74</td>\n",
       "    </tr>\n",
       "  </tbody>\n",
       "</table>\n",
       "</div>"
      ],
      "text/plain": [
       "   sys_initial  dia_initial  sys_final  dia_final\n",
       "a   123.666667           75        115         70\n",
       "b   126.000000           85        123         82\n",
       "c   130.000000           90        130         92\n",
       "d   115.000000           87        118         87\n",
       "e   150.000000           90        130         85\n",
       "f   117.000000           74        121         74"
      ]
     },
     "execution_count": 192,
     "metadata": {},
     "output_type": "execute_result"
    }
   ],
   "source": [
    "df.loc['a','sys_initial'] = None\n",
    "df.groupby('drug_admst').transform(lambda df: df.fillna(df.mean()))"
   ]
  },
  {
   "cell_type": "markdown",
   "metadata": {},
   "source": [
    "#### Joining"
   ]
  },
  {
   "cell_type": "code",
   "execution_count": 193,
   "metadata": {},
   "outputs": [
    {
     "data": {
      "text/html": [
       "<div>\n",
       "<style scoped>\n",
       "    .dataframe tbody tr th:only-of-type {\n",
       "        vertical-align: middle;\n",
       "    }\n",
       "\n",
       "    .dataframe tbody tr th {\n",
       "        vertical-align: top;\n",
       "    }\n",
       "\n",
       "    .dataframe thead th {\n",
       "        text-align: right;\n",
       "    }\n",
       "</style>\n",
       "<table border=\"1\" class=\"dataframe\">\n",
       "  <thead>\n",
       "    <tr style=\"text-align: right;\">\n",
       "      <th></th>\n",
       "      <th>sys_initial</th>\n",
       "      <th>dia_initial</th>\n",
       "      <th>sys_final</th>\n",
       "      <th>dia_final</th>\n",
       "      <th>drug_admst</th>\n",
       "      <th>hospital_id</th>\n",
       "    </tr>\n",
       "  </thead>\n",
       "  <tbody>\n",
       "    <tr>\n",
       "      <th>a</th>\n",
       "      <td>NaN</td>\n",
       "      <td>75</td>\n",
       "      <td>115</td>\n",
       "      <td>70</td>\n",
       "      <td>True</td>\n",
       "      <td>H1</td>\n",
       "    </tr>\n",
       "    <tr>\n",
       "      <th>b</th>\n",
       "      <td>126.0</td>\n",
       "      <td>85</td>\n",
       "      <td>123</td>\n",
       "      <td>82</td>\n",
       "      <td>True</td>\n",
       "      <td>H2</td>\n",
       "    </tr>\n",
       "    <tr>\n",
       "      <th>c</th>\n",
       "      <td>130.0</td>\n",
       "      <td>90</td>\n",
       "      <td>130</td>\n",
       "      <td>92</td>\n",
       "      <td>True</td>\n",
       "      <td>H2</td>\n",
       "    </tr>\n",
       "    <tr>\n",
       "      <th>d</th>\n",
       "      <td>115.0</td>\n",
       "      <td>87</td>\n",
       "      <td>118</td>\n",
       "      <td>87</td>\n",
       "      <td>True</td>\n",
       "      <td>H3</td>\n",
       "    </tr>\n",
       "    <tr>\n",
       "      <th>e</th>\n",
       "      <td>150.0</td>\n",
       "      <td>90</td>\n",
       "      <td>130</td>\n",
       "      <td>85</td>\n",
       "      <td>False</td>\n",
       "      <td>H3</td>\n",
       "    </tr>\n",
       "    <tr>\n",
       "      <th>f</th>\n",
       "      <td>117.0</td>\n",
       "      <td>74</td>\n",
       "      <td>121</td>\n",
       "      <td>74</td>\n",
       "      <td>False</td>\n",
       "      <td>H3</td>\n",
       "    </tr>\n",
       "  </tbody>\n",
       "</table>\n",
       "</div>"
      ],
      "text/plain": [
       "   sys_initial  dia_initial  sys_final  dia_final  drug_admst hospital_id\n",
       "a          NaN           75        115         70        True          H1\n",
       "b        126.0           85        123         82        True          H2\n",
       "c        130.0           90        130         92        True          H2\n",
       "d        115.0           87        118         87        True          H3\n",
       "e        150.0           90        130         85       False          H3\n",
       "f        117.0           74        121         74       False          H3"
      ]
     },
     "execution_count": 193,
     "metadata": {},
     "output_type": "execute_result"
    }
   ],
   "source": [
    "hospitals = pd.DataFrame(\n",
    "    { \"name\" : [\"City 1\", \"City 2\", \"City 3\"],\n",
    "      \"address\" : [\"Address 1\", \"Address 2\", \"Address 3\"],\n",
    "      \"city\": [\"City 1\", \"City 2\", \"City 3\"] },\n",
    "    index=[\"H1\", \"H2\", \"H3\"])\n",
    "\n",
    "hospital_id = [\"H1\", \"H2\", \"H2\", \"H3\", \"H3\", \"H3\"]\n",
    "\n",
    "df['hospital_id'] = hospital_id\n",
    "df"
   ]
  },
  {
   "cell_type": "code",
   "execution_count": 194,
   "metadata": {},
   "outputs": [
    {
     "data": {
      "text/html": [
       "<div>\n",
       "<style scoped>\n",
       "    .dataframe tbody tr th:only-of-type {\n",
       "        vertical-align: middle;\n",
       "    }\n",
       "\n",
       "    .dataframe tbody tr th {\n",
       "        vertical-align: top;\n",
       "    }\n",
       "\n",
       "    .dataframe thead th {\n",
       "        text-align: right;\n",
       "    }\n",
       "</style>\n",
       "<table border=\"1\" class=\"dataframe\">\n",
       "  <thead>\n",
       "    <tr style=\"text-align: right;\">\n",
       "      <th></th>\n",
       "      <th>name</th>\n",
       "      <th>address</th>\n",
       "      <th>city</th>\n",
       "    </tr>\n",
       "  </thead>\n",
       "  <tbody>\n",
       "    <tr>\n",
       "      <th>H1</th>\n",
       "      <td>City 1</td>\n",
       "      <td>Address 1</td>\n",
       "      <td>City 1</td>\n",
       "    </tr>\n",
       "    <tr>\n",
       "      <th>H2</th>\n",
       "      <td>City 2</td>\n",
       "      <td>Address 2</td>\n",
       "      <td>City 2</td>\n",
       "    </tr>\n",
       "    <tr>\n",
       "      <th>H3</th>\n",
       "      <td>City 3</td>\n",
       "      <td>Address 3</td>\n",
       "      <td>City 3</td>\n",
       "    </tr>\n",
       "  </tbody>\n",
       "</table>\n",
       "</div>"
      ],
      "text/plain": [
       "      name    address    city\n",
       "H1  City 1  Address 1  City 1\n",
       "H2  City 2  Address 2  City 2\n",
       "H3  City 3  Address 3  City 3"
      ]
     },
     "execution_count": 194,
     "metadata": {},
     "output_type": "execute_result"
    }
   ],
   "source": [
    "hospitals"
   ]
  },
  {
   "cell_type": "code",
   "execution_count": 196,
   "metadata": {},
   "outputs": [
    {
     "data": {
      "text/plain": [
       "['City 1', 'City 2', 'City 2', 'City 3', 'City 3', 'City 3']"
      ]
     },
     "execution_count": 196,
     "metadata": {},
     "output_type": "execute_result"
    }
   ],
   "source": [
    "hospital_dict = {\n",
    "    \"H1\": (\"City 1\", \"Name 1\", \"Address 1\"),\n",
    "    \"H2\": (\"City 2\", \"Name 2\", \"Address 2\"),\n",
    "    \"H3\": (\"City 3\", \"Name 3\", \"Address 3\")\n",
    "}\n",
    "\n",
    "cities = [hospital_dict[key][0]\n",
    "            for key in hospital_id]\n",
    "cities"
   ]
  },
  {
   "cell_type": "markdown",
   "metadata": {},
   "source": [
    "This algorithm runs efficiently with an O(N) time complexity, where N is the size of hospital_id. Pandas allows you to encode the same operation using simple indexing; the advantage is that the join will be performed in heavily optimized Cython and with efficient hashing algorithms."
   ]
  },
  {
   "cell_type": "code",
   "execution_count": 197,
   "metadata": {},
   "outputs": [
    {
     "data": {
      "text/plain": [
       "H1    City 1\n",
       "H2    City 2\n",
       "H2    City 2\n",
       "H3    City 3\n",
       "H3    City 3\n",
       "H3    City 3\n",
       "Name: city, dtype: object"
      ]
     },
     "execution_count": 197,
     "metadata": {},
     "output_type": "execute_result"
    }
   ],
   "source": [
    "cities = hospitals.loc[hospital_id, \"city\"]\n",
    "cities"
   ]
  },
  {
   "cell_type": "code",
   "execution_count": 198,
   "metadata": {},
   "outputs": [
    {
     "data": {
      "text/html": [
       "<div>\n",
       "<style scoped>\n",
       "    .dataframe tbody tr th:only-of-type {\n",
       "        vertical-align: middle;\n",
       "    }\n",
       "\n",
       "    .dataframe tbody tr th {\n",
       "        vertical-align: top;\n",
       "    }\n",
       "\n",
       "    .dataframe thead th {\n",
       "        text-align: right;\n",
       "    }\n",
       "</style>\n",
       "<table border=\"1\" class=\"dataframe\">\n",
       "  <thead>\n",
       "    <tr style=\"text-align: right;\">\n",
       "      <th></th>\n",
       "      <th>sys_initial</th>\n",
       "      <th>dia_initial</th>\n",
       "      <th>sys_final</th>\n",
       "      <th>dia_final</th>\n",
       "      <th>drug_admst</th>\n",
       "      <th>hospital_id</th>\n",
       "      <th>name</th>\n",
       "      <th>address</th>\n",
       "      <th>city</th>\n",
       "    </tr>\n",
       "  </thead>\n",
       "  <tbody>\n",
       "    <tr>\n",
       "      <th>a</th>\n",
       "      <td>NaN</td>\n",
       "      <td>75</td>\n",
       "      <td>115</td>\n",
       "      <td>70</td>\n",
       "      <td>True</td>\n",
       "      <td>H1</td>\n",
       "      <td>City 1</td>\n",
       "      <td>Address 1</td>\n",
       "      <td>City 1</td>\n",
       "    </tr>\n",
       "    <tr>\n",
       "      <th>b</th>\n",
       "      <td>126.0</td>\n",
       "      <td>85</td>\n",
       "      <td>123</td>\n",
       "      <td>82</td>\n",
       "      <td>True</td>\n",
       "      <td>H2</td>\n",
       "      <td>City 2</td>\n",
       "      <td>Address 2</td>\n",
       "      <td>City 2</td>\n",
       "    </tr>\n",
       "    <tr>\n",
       "      <th>c</th>\n",
       "      <td>130.0</td>\n",
       "      <td>90</td>\n",
       "      <td>130</td>\n",
       "      <td>92</td>\n",
       "      <td>True</td>\n",
       "      <td>H2</td>\n",
       "      <td>City 2</td>\n",
       "      <td>Address 2</td>\n",
       "      <td>City 2</td>\n",
       "    </tr>\n",
       "    <tr>\n",
       "      <th>d</th>\n",
       "      <td>115.0</td>\n",
       "      <td>87</td>\n",
       "      <td>118</td>\n",
       "      <td>87</td>\n",
       "      <td>True</td>\n",
       "      <td>H3</td>\n",
       "      <td>City 3</td>\n",
       "      <td>Address 3</td>\n",
       "      <td>City 3</td>\n",
       "    </tr>\n",
       "    <tr>\n",
       "      <th>e</th>\n",
       "      <td>150.0</td>\n",
       "      <td>90</td>\n",
       "      <td>130</td>\n",
       "      <td>85</td>\n",
       "      <td>False</td>\n",
       "      <td>H3</td>\n",
       "      <td>City 3</td>\n",
       "      <td>Address 3</td>\n",
       "      <td>City 3</td>\n",
       "    </tr>\n",
       "    <tr>\n",
       "      <th>f</th>\n",
       "      <td>117.0</td>\n",
       "      <td>74</td>\n",
       "      <td>121</td>\n",
       "      <td>74</td>\n",
       "      <td>False</td>\n",
       "      <td>H3</td>\n",
       "      <td>City 3</td>\n",
       "      <td>Address 3</td>\n",
       "      <td>City 3</td>\n",
       "    </tr>\n",
       "  </tbody>\n",
       "</table>\n",
       "</div>"
      ],
      "text/plain": [
       "   sys_initial  dia_initial  sys_final  dia_final  drug_admst hospital_id  \\\n",
       "a          NaN           75        115         70        True          H1   \n",
       "b        126.0           85        123         82        True          H2   \n",
       "c        130.0           90        130         92        True          H2   \n",
       "d        115.0           87        118         87        True          H3   \n",
       "e        150.0           90        130         85       False          H3   \n",
       "f        117.0           74        121         74       False          H3   \n",
       "\n",
       "     name    address    city  \n",
       "a  City 1  Address 1  City 1  \n",
       "b  City 2  Address 2  City 2  \n",
       "c  City 2  Address 2  City 2  \n",
       "d  City 3  Address 3  City 3  \n",
       "e  City 3  Address 3  City 3  \n",
       "f  City 3  Address 3  City 3  "
      ]
     },
     "execution_count": 198,
     "metadata": {},
     "output_type": "execute_result"
    }
   ],
   "source": [
    "result = df.join(hospitals, on = 'hospital_id')\n",
    "result"
   ]
  },
  {
   "cell_type": "markdown",
   "metadata": {
    "toc-hr-collapsed": true,
    "toc-nb-collapsed": true
   },
   "source": [
    "## 3.5 Summary"
   ]
  },
  {
   "cell_type": "markdown",
   "metadata": {},
   "source": [
    "NumPy and Pandas work well when handling large, homogenous inputs, but they are not suitable when the expressions grow complex and the operations cannot be expressed using the tools provided by these libraries. In such cases, we can leverage Python capabilities as a glue language by interfacing it with C using the Cython package."
   ]
  }
 ],
 "metadata": {
  "kernelspec": {
   "display_name": "Python 3",
   "language": "python",
   "name": "python3"
  },
  "language_info": {
   "codemirror_mode": {
    "name": "ipython",
    "version": 3
   },
   "file_extension": ".py",
   "mimetype": "text/x-python",
   "name": "python",
   "nbconvert_exporter": "python",
   "pygments_lexer": "ipython3",
   "version": "3.7.7"
  }
 },
 "nbformat": 4,
 "nbformat_minor": 4
}
