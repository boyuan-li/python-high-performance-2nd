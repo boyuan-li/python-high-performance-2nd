{
 "cells": [
  {
   "cell_type": "markdown",
   "metadata": {},
   "source": [
    "# Chapter 5. Exploring Compilers"
   ]
  },
  {
   "cell_type": "markdown",
   "metadata": {},
   "source": [
    "Compiling functions and methods directly to machine code rather than executing instructions in the interpreter"
   ]
  },
  {
   "cell_type": "markdown",
   "metadata": {},
   "source": [
    "Numba is a library designed to compile small functions on the fly. Instead of transforming Python code to C, Numba analyzes and compiles Python functions directly to machine code"
   ]
  },
  {
   "cell_type": "markdown",
   "metadata": {},
   "source": [
    "PyPy is a replacement interpreter that works by analyzing the code at runtime and optimizing the slow loops automatically"
   ]
  },
  {
   "cell_type": "markdown",
   "metadata": {},
   "source": [
    "These tools are called **Just-In-Time (JIT)** compilers because the compilation is performed at runtime rather than before running the code (in other cases, the compiler is called ahead-oftime or AOT)"
   ]
  },
  {
   "cell_type": "markdown",
   "metadata": {
    "toc-hr-collapsed": true,
    "toc-nb-collapsed": true
   },
   "source": [
    "## 5.1 Numba"
   ]
  },
  {
   "cell_type": "markdown",
   "metadata": {},
   "source": [
    "As a library for compiling individual Python functions at runtime using the Low-Level Virtual Machine (LLVM) toolchain."
   ]
  },
  {
   "cell_type": "markdown",
   "metadata": {},
   "source": [
    "LLVM is a set of tools designed to write compilers. LLVM is language agnostic and is used to write compilers for a wide range of languages (an important example is the clang compiler). One of the core aspects of LLVM is the intermediate representation (the LLVM IR), a very low-level platform-agnostic language similar to assembly, that can be compiled to machine code for the specific target platform"
   ]
  },
  {
   "cell_type": "markdown",
   "metadata": {},
   "source": [
    "Numba works by inspecting Python functions and by compiling them, using LLVM, to the IR. As we have already seen in the last chapter, the speed gains can be obtained when we introduce types for variables and functions. Numba implements clever algorithms to guess the types (this is called type inference) and compiles type-aware versions of the functions for fast execution."
   ]
  },
  {
   "cell_type": "markdown",
   "metadata": {},
   "source": [
    "Note that Numba was developed to improve the performance of numerical code. The development efforts often prioritize the optimization of applications that intensively use NumPy arrays"
   ]
  },
  {
   "cell_type": "markdown",
   "metadata": {},
   "source": [
    "### 5.1.1 First steps with numba"
   ]
  },
  {
   "cell_type": "code",
   "execution_count": null,
   "metadata": {},
   "outputs": [],
   "source": [
    "conda install numba"
   ]
  },
  {
   "cell_type": "code",
   "execution_count": 2,
   "metadata": {},
   "outputs": [],
   "source": [
    "def sum_sq(a):\n",
    "    result = 0\n",
    "    N = len(a)\n",
    "    for i in range(N):\n",
    "        result += a[i]\n",
    "    return result"
   ]
  },
  {
   "cell_type": "code",
   "execution_count": 4,
   "metadata": {},
   "outputs": [],
   "source": [
    "import numba as nb\n",
    "\n",
    "@nb.jit # decorator \n",
    "\n",
    "def sum_sq(a):\n",
    "    result = 0\n",
    "    N = len(a)\n",
    "    for i in range(N):\n",
    "        result += a[i]\n",
    "    return result"
   ]
  },
  {
   "cell_type": "code",
   "execution_count": 5,
   "metadata": {},
   "outputs": [
    {
     "name": "stdout",
     "output_type": "stream",
     "text": [
      "1.66 ms ± 6.72 µs per loop (mean ± std. dev. of 7 runs, 1000 loops each)\n",
      "10.2 µs ± 1.26 µs per loop (mean ± std. dev. of 7 runs, 1 loop each)\n"
     ]
    }
   ],
   "source": [
    "import numpy as np\n",
    "x = np.random.rand(10000)\n",
    "\n",
    "# Original\n",
    "%timeit sum_sq.py_func(x)\n",
    "# 100 loops, best of 3: 6.11 ms per loop\n",
    "\n",
    "# Numba\n",
    "% timeit sum_sq(x)\n",
    "# 100000 loops, best of 3: 11.7 μs per loop"
   ]
  },
  {
   "cell_type": "code",
   "execution_count": 6,
   "metadata": {},
   "outputs": [
    {
     "name": "stdout",
     "output_type": "stream",
     "text": [
      "7.91 µs ± 38.3 ns per loop (mean ± std. dev. of 7 runs, 100000 loops each)\n"
     ]
    }
   ],
   "source": [
    "%timeit (x**2).sum()"
   ]
  },
  {
   "cell_type": "code",
   "execution_count": 8,
   "metadata": {},
   "outputs": [
    {
     "name": "stdout",
     "output_type": "stream",
     "text": [
      "9.55 ms ± 183 µs per loop (mean ± std. dev. of 7 runs, 100 loops each)\n"
     ]
    }
   ],
   "source": [
    "x_list = x.tolist()\n",
    "%timeit sum_sq(x_list)"
   ]
  },
  {
   "cell_type": "code",
   "execution_count": 9,
   "metadata": {},
   "outputs": [
    {
     "name": "stdout",
     "output_type": "stream",
     "text": [
      "721 µs ± 28.1 µs per loop (mean ± std. dev. of 7 runs, 1000 loops each)\n"
     ]
    }
   ],
   "source": [
    "%timeit sum([x**2 for x in x_list])"
   ]
  },
  {
   "cell_type": "markdown",
   "metadata": {},
   "source": [
    "### 5.1.2 Type specializations"
   ]
  },
  {
   "cell_type": "markdown",
   "metadata": {},
   "source": [
    "The *nb.jit* decorator works by compiling a specialized version of the function once it encounters a new argument type"
   ]
  },
  {
   "cell_type": "markdown",
   "metadata": {},
   "source": [
    "Numba exposes the specialized types using the signatures attribute. Right after the sum_sq definition, we can inspect the available specialization by accessing the sum_sq.signatures"
   ]
  },
  {
   "cell_type": "code",
   "execution_count": 10,
   "metadata": {},
   "outputs": [
    {
     "data": {
      "text/plain": [
       "[(array(float64, 1d, C),), (reflected list(float64),)]"
      ]
     },
     "execution_count": 10,
     "metadata": {},
     "output_type": "execute_result"
    }
   ],
   "source": [
    "sum_sq.signatures"
   ]
  },
  {
   "cell_type": "code",
   "execution_count": 11,
   "metadata": {},
   "outputs": [
    {
     "data": {
      "text/plain": [
       "[(array(float64, 1d, C),), (reflected list(float64),)]"
      ]
     },
     "execution_count": 11,
     "metadata": {},
     "output_type": "execute_result"
    }
   ],
   "source": [
    "x = np.random.rand(1000).astype('float64')\n",
    "sum_sq(x)\n",
    "sum_sq.signatures"
   ]
  },
  {
   "cell_type": "code",
   "execution_count": 12,
   "metadata": {},
   "outputs": [
    {
     "data": {
      "text/plain": [
       "[(array(float64, 1d, C),),\n",
       " (reflected list(float64),),\n",
       " (array(float32, 1d, C),)]"
      ]
     },
     "execution_count": 12,
     "metadata": {},
     "output_type": "execute_result"
    }
   ],
   "source": [
    "x = np.random.rand(1000).astype('float32')\n",
    "sum_sq(x)\n",
    "sum_sq.signatures"
   ]
  },
  {
   "cell_type": "markdown",
   "metadata": {},
   "source": [
    "It is possible to explicitly compile the function for certain types by passing a signature to the nb.jit function"
   ]
  },
  {
   "cell_type": "markdown",
   "metadata": {},
   "source": [
    "An individual signature can be passed as a tuple that contains the type we would like to accept. Numba provides a great variety of types that can be found in the nb.types module, and they are also available in the top-level nb namespace. If we want to specify an array of a specific type, we can use the slicing operator, [:], on the type itself."
   ]
  },
  {
   "cell_type": "code",
   "execution_count": 13,
   "metadata": {},
   "outputs": [],
   "source": [
    "@nb.jit((nb.float64[:],))\n",
    "def sum_sq(a):\n",
    "    result = 0\n",
    "    N = len(a)\n",
    "    for i in range(N):\n",
    "        result += a[i]\n",
    "    return result"
   ]
  },
  {
   "cell_type": "markdown",
   "metadata": {},
   "source": [
    "Note that when we explicitly declare a signature, we are prevented from using other types"
   ]
  },
  {
   "cell_type": "code",
   "execution_count": 14,
   "metadata": {},
   "outputs": [
    {
     "ename": "TypeError",
     "evalue": "No matching definition for argument type(s) array(float32, 1d, C)",
     "output_type": "error",
     "traceback": [
      "\u001b[0;31m---------------------------------------------------------------------------\u001b[0m",
      "\u001b[0;31mTypeError\u001b[0m                                 Traceback (most recent call last)",
      "\u001b[0;32m<ipython-input-14-8fb9ecd0ecd5>\u001b[0m in \u001b[0;36m<module>\u001b[0;34m\u001b[0m\n\u001b[0;32m----> 1\u001b[0;31m \u001b[0msum_sq\u001b[0m\u001b[0;34m(\u001b[0m\u001b[0mx\u001b[0m\u001b[0;34m.\u001b[0m\u001b[0mastype\u001b[0m\u001b[0;34m(\u001b[0m\u001b[0;34m'float32'\u001b[0m\u001b[0;34m)\u001b[0m\u001b[0;34m)\u001b[0m\u001b[0;34m\u001b[0m\u001b[0;34m\u001b[0m\u001b[0m\n\u001b[0m",
      "\u001b[0;32m~/anaconda3/envs/Python/lib/python3.7/site-packages/numba/dispatcher.py\u001b[0m in \u001b[0;36m_explain_matching_error\u001b[0;34m(self, *args, **kws)\u001b[0m\n\u001b[1;32m    572\u001b[0m         msg = (\"No matching definition for argument type(s) %s\"\n\u001b[1;32m    573\u001b[0m                % ', '.join(map(str, args)))\n\u001b[0;32m--> 574\u001b[0;31m         \u001b[0;32mraise\u001b[0m \u001b[0mTypeError\u001b[0m\u001b[0;34m(\u001b[0m\u001b[0mmsg\u001b[0m\u001b[0;34m)\u001b[0m\u001b[0;34m\u001b[0m\u001b[0;34m\u001b[0m\u001b[0m\n\u001b[0m\u001b[1;32m    575\u001b[0m \u001b[0;34m\u001b[0m\u001b[0m\n\u001b[1;32m    576\u001b[0m     \u001b[0;32mdef\u001b[0m \u001b[0m_search_new_conversions\u001b[0m\u001b[0;34m(\u001b[0m\u001b[0mself\u001b[0m\u001b[0;34m,\u001b[0m \u001b[0;34m*\u001b[0m\u001b[0margs\u001b[0m\u001b[0;34m,\u001b[0m \u001b[0;34m**\u001b[0m\u001b[0mkws\u001b[0m\u001b[0;34m)\u001b[0m\u001b[0;34m:\u001b[0m\u001b[0;34m\u001b[0m\u001b[0;34m\u001b[0m\u001b[0m\n",
      "\u001b[0;31mTypeError\u001b[0m: No matching definition for argument type(s) array(float32, 1d, C)"
     ]
    }
   ],
   "source": [
    "sum_sq(x.astype('float32'))"
   ]
  },
  {
   "cell_type": "markdown",
   "metadata": {},
   "source": [
    "Another way to declare signatures is through type strings. For example, a function that takes a float64 as input and returns a float64 as output can be declared with the float64(float64) string. Array types can be declared using a [:] suffix"
   ]
  },
  {
   "cell_type": "code",
   "execution_count": 15,
   "metadata": {},
   "outputs": [],
   "source": [
    "@nb.jit('float64(float64[:])')\n",
    "def sum_sq(a):\n",
    "    result = 0\n",
    "    N = len(a)\n",
    "    for i in range(N):\n",
    "        result += a[i]\n",
    "    return result"
   ]
  },
  {
   "cell_type": "code",
   "execution_count": 16,
   "metadata": {},
   "outputs": [],
   "source": [
    "@nb.jit(['float64(float64[:])',\n",
    "         'float64(float32[:])'])\n",
    "def sum_sq(a):\n",
    "    result = 0\n",
    "    N = len(a)\n",
    "    for i in range(N):\n",
    "        result += a[i]\n",
    "    return result"
   ]
  },
  {
   "cell_type": "markdown",
   "metadata": {},
   "source": [
    "### 5.1.3 Object mode versus native mode"
   ]
  },
  {
   "cell_type": "markdown",
   "metadata": {},
   "source": [
    "The degree of optimization obtainable from Numba depends on how well Numba is able to infer the variable types and how well it can translate those standard Python operations to fast type-specific versions. If this happens, the interpreter is side-stepped and we can get performance gains similar to those of Cython"
   ]
  },
  {
   "cell_type": "markdown",
   "metadata": {},
   "source": [
    "When Numba cannot infer variable types, it will still try and compile the code, reverting to the interpreter when the types can't be determined or when certain operations are unsupported. In Numba, this is called **object mode** and is in contrast to the interpreter-free scenario, called **native mode**."
   ]
  },
  {
   "cell_type": "markdown",
   "metadata": {},
   "source": [
    "Numba provides a function, called **inspect_types**, that helps understand how effective the type inference was and which operations were optimized"
   ]
  },
  {
   "cell_type": "code",
   "execution_count": 17,
   "metadata": {},
   "outputs": [
    {
     "name": "stdout",
     "output_type": "stream",
     "text": [
      "sum_sq (array(float64, 1d, A),)\n",
      "--------------------------------------------------------------------------------\n",
      "# File: <ipython-input-16-7a2c74aa39d8>\n",
      "# --- LINE 1 --- \n",
      "\n",
      "@nb.jit(['float64(float64[:])',\n",
      "\n",
      "         # --- LINE 2 --- \n",
      "\n",
      "         'float64(float32[:])'])\n",
      "\n",
      "# --- LINE 3 --- \n",
      "\n",
      "def sum_sq(a):\n",
      "\n",
      "    # --- LINE 4 --- \n",
      "    # label 0\n",
      "    #   a = arg(0, name=a)  :: array(float64, 1d, A)\n",
      "    #   $const2.0 = const(int, 0)  :: Literal[int](0)\n",
      "    #   result = $const2.0  :: float64\n",
      "    #   del $const2.0\n",
      "\n",
      "    result = 0\n",
      "\n",
      "    # --- LINE 5 --- \n",
      "    #   $6load_global.1 = global(len: <built-in function len>)  :: Function(<built-in function len>)\n",
      "    #   $10call_function.3 = call $6load_global.1(a, func=$6load_global.1, args=[Var(a, <ipython-input-16-7a2c74aa39d8>:4)], kws=(), vararg=None)  :: (array(float64, 1d, A),) -> int64\n",
      "    #   del $6load_global.1\n",
      "    #   N = $10call_function.3  :: int64\n",
      "    #   del $10call_function.3\n",
      "\n",
      "    N = len(a)\n",
      "\n",
      "    # --- LINE 6 --- \n",
      "    #   jump 14\n",
      "    # label 14\n",
      "    #   $16load_global.0 = global(range: <class 'range'>)  :: Function(<class 'range'>)\n",
      "    #   $20call_function.2 = call $16load_global.0(N, func=$16load_global.0, args=[Var(N, <ipython-input-16-7a2c74aa39d8>:5)], kws=(), vararg=None)  :: (int64,) -> range_state_int64\n",
      "    #   del N\n",
      "    #   del $16load_global.0\n",
      "    #   $22get_iter.3 = getiter(value=$20call_function.2)  :: range_iter_int64\n",
      "    #   del $20call_function.2\n",
      "    #   $phi24.0 = $22get_iter.3  :: range_iter_int64\n",
      "    #   del $22get_iter.3\n",
      "    #   jump 24\n",
      "    # label 24\n",
      "    #   $24for_iter.1 = iternext(value=$phi24.0)  :: pair<int64, bool>\n",
      "    #   $24for_iter.2 = pair_first(value=$24for_iter.1)  :: int64\n",
      "    #   $24for_iter.3 = pair_second(value=$24for_iter.1)  :: bool\n",
      "    #   del $24for_iter.1\n",
      "    #   $phi26.1 = $24for_iter.2  :: int64\n",
      "    #   del $24for_iter.2\n",
      "    #   branch $24for_iter.3, 26, 42\n",
      "    # label 26\n",
      "    #   del $24for_iter.3\n",
      "    #   i = $phi26.1  :: int64\n",
      "    #   del $phi26.1\n",
      "\n",
      "    for i in range(N):\n",
      "\n",
      "        # --- LINE 7 --- \n",
      "        #   $34binary_subscr.5 = getitem(value=a, index=i)  :: float64\n",
      "        #   del i\n",
      "        #   $36inplace_add.6 = inplace_binop(fn=<built-in function iadd>, immutable_fn=<built-in function add>, lhs=result, rhs=$34binary_subscr.5, static_lhs=Undefined, static_rhs=Undefined)  :: float64\n",
      "        #   del $34binary_subscr.5\n",
      "        #   result = $36inplace_add.6  :: float64\n",
      "        #   del $36inplace_add.6\n",
      "        #   jump 24\n",
      "        # label 42\n",
      "\n",
      "        result += a[i]\n",
      "\n",
      "    # --- LINE 8 --- \n",
      "    #   del a\n",
      "    #   del $phi26.1\n",
      "    #   del $phi24.0\n",
      "    #   del $24for_iter.3\n",
      "    #   jump 44\n",
      "    # label 44\n",
      "    #   $46return_value.1 = cast(value=result)  :: float64\n",
      "    #   del result\n",
      "    #   return $46return_value.1\n",
      "\n",
      "    return result\n",
      "\n",
      "\n",
      "================================================================================\n",
      "sum_sq (array(float32, 1d, A),)\n",
      "--------------------------------------------------------------------------------\n",
      "# File: <ipython-input-16-7a2c74aa39d8>\n",
      "# --- LINE 1 --- \n",
      "\n",
      "@nb.jit(['float64(float64[:])',\n",
      "\n",
      "         # --- LINE 2 --- \n",
      "\n",
      "         'float64(float32[:])'])\n",
      "\n",
      "# --- LINE 3 --- \n",
      "\n",
      "def sum_sq(a):\n",
      "\n",
      "    # --- LINE 4 --- \n",
      "    # label 0\n",
      "    #   a = arg(0, name=a)  :: array(float32, 1d, A)\n",
      "    #   $const2.0 = const(int, 0)  :: Literal[int](0)\n",
      "    #   result = $const2.0  :: float64\n",
      "    #   del $const2.0\n",
      "\n",
      "    result = 0\n",
      "\n",
      "    # --- LINE 5 --- \n",
      "    #   $6load_global.1 = global(len: <built-in function len>)  :: Function(<built-in function len>)\n",
      "    #   $10call_function.3 = call $6load_global.1(a, func=$6load_global.1, args=[Var(a, <ipython-input-16-7a2c74aa39d8>:4)], kws=(), vararg=None)  :: (array(float32, 1d, A),) -> int64\n",
      "    #   del $6load_global.1\n",
      "    #   N = $10call_function.3  :: int64\n",
      "    #   del $10call_function.3\n",
      "\n",
      "    N = len(a)\n",
      "\n",
      "    # --- LINE 6 --- \n",
      "    #   jump 14\n",
      "    # label 14\n",
      "    #   $16load_global.0 = global(range: <class 'range'>)  :: Function(<class 'range'>)\n",
      "    #   $20call_function.2 = call $16load_global.0(N, func=$16load_global.0, args=[Var(N, <ipython-input-16-7a2c74aa39d8>:5)], kws=(), vararg=None)  :: (int64,) -> range_state_int64\n",
      "    #   del N\n",
      "    #   del $16load_global.0\n",
      "    #   $22get_iter.3 = getiter(value=$20call_function.2)  :: range_iter_int64\n",
      "    #   del $20call_function.2\n",
      "    #   $phi24.0 = $22get_iter.3  :: range_iter_int64\n",
      "    #   del $22get_iter.3\n",
      "    #   jump 24\n",
      "    # label 24\n",
      "    #   $24for_iter.1 = iternext(value=$phi24.0)  :: pair<int64, bool>\n",
      "    #   $24for_iter.2 = pair_first(value=$24for_iter.1)  :: int64\n",
      "    #   $24for_iter.3 = pair_second(value=$24for_iter.1)  :: bool\n",
      "    #   del $24for_iter.1\n",
      "    #   $phi26.1 = $24for_iter.2  :: int64\n",
      "    #   del $24for_iter.2\n",
      "    #   branch $24for_iter.3, 26, 42\n",
      "    # label 26\n",
      "    #   del $24for_iter.3\n",
      "    #   i = $phi26.1  :: int64\n",
      "    #   del $phi26.1\n",
      "\n",
      "    for i in range(N):\n",
      "\n",
      "        # --- LINE 7 --- \n",
      "        #   $34binary_subscr.5 = getitem(value=a, index=i)  :: float32\n",
      "        #   del i\n",
      "        #   $36inplace_add.6 = inplace_binop(fn=<built-in function iadd>, immutable_fn=<built-in function add>, lhs=result, rhs=$34binary_subscr.5, static_lhs=Undefined, static_rhs=Undefined)  :: float64\n",
      "        #   del $34binary_subscr.5\n",
      "        #   result = $36inplace_add.6  :: float64\n",
      "        #   del $36inplace_add.6\n",
      "        #   jump 24\n",
      "        # label 42\n",
      "\n",
      "        result += a[i]\n",
      "\n",
      "    # --- LINE 8 --- \n",
      "    #   del a\n",
      "    #   del $phi26.1\n",
      "    #   del $phi24.0\n",
      "    #   del $24for_iter.3\n",
      "    #   jump 44\n",
      "    # label 44\n",
      "    #   $46return_value.1 = cast(value=result)  :: float64\n",
      "    #   del result\n",
      "    #   return $46return_value.1\n",
      "\n",
      "    return result\n",
      "\n",
      "\n",
      "================================================================================\n"
     ]
    }
   ],
   "source": [
    "sum_sq.inspect_types()"
   ]
  },
  {
   "cell_type": "markdown",
   "metadata": {},
   "source": [
    "For each line, Numba prints a thorough description of variables, functions, and intermediate results"
   ]
  },
  {
   "cell_type": "markdown",
   "metadata": {},
   "source": [
    "All the variables have a well-defined type. Therefore, we can be certain that Numba is able to compile the code quite efficiently. This form of compilation is called **native mode**."
   ]
  },
  {
   "cell_type": "code",
   "execution_count": 18,
   "metadata": {},
   "outputs": [],
   "source": [
    "@nb.jit\n",
    "def concatenate(strings):\n",
    "    result = ''\n",
    "    for s in strings:\n",
    "        result += s\n",
    "    return result"
   ]
  },
  {
   "cell_type": "code",
   "execution_count": 20,
   "metadata": {},
   "outputs": [
    {
     "data": {
      "text/plain": [
       "[(reflected list(unicode_type),)]"
      ]
     },
     "execution_count": 20,
     "metadata": {},
     "output_type": "execute_result"
    }
   ],
   "source": [
    "concatenate(['hello', 'world'])\n",
    "concatenate.signatures"
   ]
  },
  {
   "cell_type": "code",
   "execution_count": 21,
   "metadata": {},
   "outputs": [
    {
     "name": "stdout",
     "output_type": "stream",
     "text": [
      "concatenate (reflected list(unicode_type),)\n",
      "--------------------------------------------------------------------------------\n",
      "# File: <ipython-input-18-52e1d864c8e7>\n",
      "# --- LINE 1 --- \n",
      "\n",
      "@nb.jit\n",
      "\n",
      "# --- LINE 2 --- \n",
      "\n",
      "def concatenate(strings):\n",
      "\n",
      "    # --- LINE 3 --- \n",
      "    # label 0\n",
      "    #   strings = arg(0, name=strings)  :: reflected list(unicode_type)\n",
      "    #   $const2.0 = const(str, )  :: Literal[str]()\n",
      "    #   result = $const2.0  :: unicode_type\n",
      "    #   del $const2.0\n",
      "\n",
      "    result = ''\n",
      "\n",
      "    # --- LINE 4 --- \n",
      "    #   jump 6\n",
      "    # label 6\n",
      "    #   $10get_iter.1 = getiter(value=strings)  :: iter(reflected list(unicode_type))\n",
      "    #   del strings\n",
      "    #   $phi12.0 = $10get_iter.1  :: iter(reflected list(unicode_type))\n",
      "    #   del $10get_iter.1\n",
      "    #   jump 12\n",
      "    # label 12\n",
      "    #   $12for_iter.1 = iternext(value=$phi12.0)  :: pair<unicode_type, bool>\n",
      "    #   $12for_iter.2 = pair_first(value=$12for_iter.1)  :: unicode_type\n",
      "    #   $12for_iter.3 = pair_second(value=$12for_iter.1)  :: bool\n",
      "    #   del $12for_iter.1\n",
      "    #   $phi14.1 = $12for_iter.2  :: unicode_type\n",
      "    #   del $12for_iter.2\n",
      "    #   branch $12for_iter.3, 14, 26\n",
      "    # label 14\n",
      "    #   del $12for_iter.3\n",
      "    #   s = $phi14.1  :: unicode_type\n",
      "    #   del $phi14.1\n",
      "\n",
      "    for s in strings:\n",
      "\n",
      "        # --- LINE 5 --- \n",
      "        #   $20inplace_add.4 = inplace_binop(fn=<built-in function iadd>, immutable_fn=<built-in function add>, lhs=result, rhs=s, static_lhs=Undefined, static_rhs=Undefined)  :: unicode_type\n",
      "        #   del s\n",
      "        #   result = $20inplace_add.4  :: unicode_type\n",
      "        #   del $20inplace_add.4\n",
      "        #   jump 12\n",
      "        # label 26\n",
      "\n",
      "        result += s\n",
      "\n",
      "    # --- LINE 6 --- \n",
      "    #   del $phi14.1\n",
      "    #   del $phi12.0\n",
      "    #   del $12for_iter.3\n",
      "    #   jump 28\n",
      "    # label 28\n",
      "    #   $30return_value.1 = cast(value=result)  :: unicode_type\n",
      "    #   del result\n",
      "    #   return $30return_value.1\n",
      "\n",
      "    return result\n",
      "\n",
      "\n",
      "================================================================================\n"
     ]
    }
   ],
   "source": [
    "concatenate.inspect_types()"
   ]
  },
  {
   "cell_type": "markdown",
   "metadata": {},
   "source": [
    "This means that, in this case, Numba is unable to compile this operation without the help of the Python interpreter"
   ]
  },
  {
   "cell_type": "code",
   "execution_count": 22,
   "metadata": {},
   "outputs": [
    {
     "name": "stdout",
     "output_type": "stream",
     "text": [
      "74.8 µs ± 761 ns per loop (mean ± std. dev. of 7 runs, 10000 loops each)\n"
     ]
    }
   ],
   "source": [
    "x = ['hello'] * 1000\n",
    "%timeit concatenate.py_func(x)"
   ]
  },
  {
   "cell_type": "code",
   "execution_count": 23,
   "metadata": {},
   "outputs": [
    {
     "name": "stdout",
     "output_type": "stream",
     "text": [
      "1.36 ms ± 11.8 µs per loop (mean ± std. dev. of 7 runs, 1000 loops each)\n"
     ]
    }
   ],
   "source": [
    "%timeit concatenate(x)"
   ]
  },
  {
   "cell_type": "markdown",
   "metadata": {},
   "source": [
    "This is because the Numba compiler is not able to optimize the code and adds some extra overhead to the function call"
   ]
  },
  {
   "cell_type": "markdown",
   "metadata": {},
   "source": [
    "Numba compiled the code without complaints even if it is inefficient. The main reason for this is that Numba can still compile other sections of the code in an efficient manner while falling back to the Python interpreter for other parts of the code. This compilation strategy is called **object mode**"
   ]
  },
  {
   "cell_type": "markdown",
   "metadata": {},
   "source": [
    "It is possible to force the use of native mode by passing the nopython=True option to the nb.jit decorator."
   ]
  },
  {
   "cell_type": "code",
   "execution_count": 26,
   "metadata": {},
   "outputs": [
    {
     "name": "stderr",
     "output_type": "stream",
     "text": [
      "/Users/boyuan/anaconda3/envs/Python/lib/python3.7/site-packages/numba/ir_utils.py:2041: NumbaPendingDeprecationWarning: \u001b[1m\n",
      "Encountered the use of a type that is scheduled for deprecation: type 'reflected list' found for argument 'strings' of function 'concatenate'.\n",
      "\n",
      "For more information visit http://numba.pydata.org/numba-doc/latest/reference/deprecation.html#deprecation-of-reflection-for-list-and-set-types\n",
      "\u001b[1m\n",
      "File \"<ipython-input-26-29090bfedc97>\", line 2:\u001b[0m\n",
      "\u001b[1m@nb.jit(nopython = True)\n",
      "\u001b[1mdef concatenate(strings):\n",
      "\u001b[0m\u001b[1m^\u001b[0m\u001b[0m\n",
      "\u001b[0m\n",
      "  warnings.warn(NumbaPendingDeprecationWarning(msg, loc=loc))\n"
     ]
    },
    {
     "data": {
      "text/plain": [
       "'hellohellohellohellohellohellohellohellohellohellohellohellohellohellohellohellohellohellohellohellohellohellohellohellohellohellohellohellohellohellohellohellohellohellohellohellohellohellohellohellohellohellohellohellohellohellohellohellohellohellohellohellohellohellohellohellohellohellohellohellohellohellohellohellohellohellohellohellohellohellohellohellohellohellohellohellohellohellohellohellohellohellohellohellohellohellohellohellohellohellohellohellohellohellohellohellohellohellohellohellohellohellohellohellohellohellohellohellohellohellohellohellohellohellohellohellohellohellohellohellohellohellohellohellohellohellohellohellohellohellohellohellohellohellohellohellohellohellohellohellohellohellohellohellohellohellohellohellohellohellohellohellohellohellohellohellohellohellohellohellohellohellohellohellohellohellohellohellohellohellohellohellohellohellohellohellohellohellohellohellohellohellohellohellohellohellohellohellohellohellohellohellohellohellohellohellohellohellohellohellohellohellohellohellohellohellohellohellohellohellohellohellohellohellohellohellohellohellohellohellohellohellohellohellohellohellohellohellohellohellohellohellohellohellohellohellohellohellohellohellohellohellohellohellohellohellohellohellohellohellohellohellohellohellohellohellohellohellohellohellohellohellohellohellohellohellohellohellohellohellohellohellohellohellohellohellohellohellohellohellohellohellohellohellohellohellohellohellohellohellohellohellohellohellohellohellohellohellohellohellohellohellohellohellohellohellohellohellohellohellohellohellohellohellohellohellohellohellohellohellohellohellohellohellohellohellohellohellohellohellohellohellohellohellohellohellohellohellohellohellohellohellohellohellohellohellohellohellohellohellohellohellohellohellohellohellohellohellohellohellohellohellohellohellohellohellohellohellohellohellohellohellohellohellohellohellohellohellohellohellohellohellohellohellohellohellohellohellohellohellohellohellohellohellohellohellohellohellohellohellohellohellohellohellohellohellohellohellohellohellohellohellohellohellohellohellohellohellohellohellohellohellohellohellohellohellohellohellohellohellohellohellohellohellohellohellohellohellohellohellohellohellohellohellohellohellohellohellohellohellohellohellohellohellohellohellohellohellohellohellohellohellohellohellohellohellohellohellohellohellohellohellohellohellohellohellohellohellohellohellohellohellohellohellohellohellohellohellohellohellohellohellohellohellohellohellohellohellohellohellohellohellohellohellohellohellohellohellohellohellohellohellohellohellohellohellohellohellohellohellohellohellohellohellohellohellohellohellohellohellohellohellohellohellohellohellohellohellohellohellohellohellohellohellohellohellohellohellohellohellohellohellohellohellohellohellohellohellohellohellohellohellohellohellohellohellohellohellohellohellohellohellohellohellohellohellohellohellohellohellohellohellohellohellohellohellohellohellohellohellohellohellohellohellohellohellohellohellohellohellohellohellohellohellohellohellohellohellohellohellohellohellohellohellohellohellohellohellohellohellohellohellohellohellohellohellohellohellohellohellohellohellohellohellohellohellohellohellohellohellohellohellohellohellohellohellohellohellohellohellohellohellohellohellohellohellohellohellohellohellohellohellohellohellohellohellohellohellohellohellohellohellohellohellohellohellohellohellohellohellohellohellohellohellohellohellohellohellohellohellohellohellohellohellohellohellohellohellohellohellohellohellohellohellohellohellohellohellohellohellohellohellohellohellohellohellohellohellohellohellohellohellohellohellohellohellohellohellohellohellohellohellohellohellohellohellohellohellohellohellohellohellohellohellohellohellohellohellohellohellohellohellohellohellohellohellohellohellohellohellohellohellohellohellohellohellohellohellohellohellohellohellohellohellohellohellohellohellohellohellohellohellohellohellohellohellohellohellohellohellohellohellohellohellohellohellohellohellohellohellohellohellohellohellohellohellohellohellohellohellohellohellohellohellohellohellohellohellohellohellohellohellohellohellohellohellohellohellohellohellohellohellohellohellohellohellohellohellohellohellohellohellohellohellohellohellohellohellohellohellohellohellohellohellohellohellohellohellohellohellohellohellohellohellohellohellohellohellohellohellohellohellohellohellohellohellohellohellohellohellohellohellohellohellohellohellohellohellohellohellohellohellohellohellohellohellohellohellohellohellohellohellohellohellohellohellohellohellohellohellohellohellohellohellohellohellohellohellohellohellohellohellohellohellohellohellohellohellohellohellohellohellohellohellohellohellohellohellohellohellohellohellohellohellohellohellohellohellohellohellohellohellohellohellohellohellohellohellohellohellohellohellohellohellohellohellohellohellohellohellohellohellohellohellohellohellohellohellohellohellohellohellohellohellohellohellohellohellohellohellohellohellohellohellohellohellohellohellohellohello'"
      ]
     },
     "execution_count": 26,
     "metadata": {},
     "output_type": "execute_result"
    }
   ],
   "source": [
    "@nb.jit(nopython = True)\n",
    "def concatenate(strings):\n",
    "    result = ''\n",
    "    for s in strings:\n",
    "        result += s\n",
    "    return result \n",
    "\n",
    "concatenate(x)"
   ]
  },
  {
   "cell_type": "markdown",
   "metadata": {},
   "source": [
    "### 5.1.4 Numba and numpy"
   ]
  },
  {
   "cell_type": "markdown",
   "metadata": {},
   "source": [
    "Numba was originally developed to easily increase performance of code that uses NumPy arrays. Currently, many NumPy features are implemented efficiently by the compiler"
   ]
  },
  {
   "cell_type": "markdown",
   "metadata": {},
   "source": [
    "#### Universal functions with numba"
   ]
  },
  {
   "cell_type": "markdown",
   "metadata": {},
   "source": [
    "Universal functions are special functions defined in NumPy that are able to operate on arrays of different sizes and shapes according to the broadcasting rules. One of the best features of Numba is the implementation of fast *ufuncs*"
   ]
  },
  {
   "cell_type": "markdown",
   "metadata": {},
   "source": [
    "For instance, the np.log function is a ufunc because it can accept scalars and arrays of different sizes and shapes. Also, universal functions that take multiple arguments still work according to the broadcasting rules. Examples of universal functions that take multiple arguments are np.sum or np.difference"
   ]
  },
  {
   "cell_type": "markdown",
   "metadata": {},
   "source": [
    "Universal functions can be defined in standard NumPy by implementing the scalar version and using the np.vectorize function to enhance the function with the broadcasting feature."
   ]
  },
  {
   "cell_type": "code",
   "execution_count": 31,
   "metadata": {},
   "outputs": [],
   "source": [
    "import numpy as np\n",
    "\n",
    "def cantor_py(a,b):\n",
    "    return int(0.5 * (a + b)*(a + b + 1) + b)"
   ]
  },
  {
   "cell_type": "code",
   "execution_count": 32,
   "metadata": {},
   "outputs": [],
   "source": [
    "@np.vectorize\n",
    "def cantor(a,b):\n",
    "    return int(0.5 * (a + b)*(a + b + 1) + b)"
   ]
  },
  {
   "cell_type": "code",
   "execution_count": 33,
   "metadata": {},
   "outputs": [
    {
     "data": {
      "text/plain": [
       "array([ 8, 12])"
      ]
     },
     "execution_count": 33,
     "metadata": {},
     "output_type": "execute_result"
    }
   ],
   "source": [
    "cantor(np.array([1,2]),2)"
   ]
  },
  {
   "cell_type": "markdown",
   "metadata": {},
   "source": [
    "Except for the convenience, defining universal functions in pure Python is not very useful as it requires a lot of function calls affected by interpreter overhead. For this reason, ufunc implementation is usually done in C or Cython, but Numba beats all these methods by its convenience"
   ]
  },
  {
   "cell_type": "markdown",
   "metadata": {},
   "source": [
    "All that is needed to do in order to perform the conversion is using the equivalent decorator, nb.vectorize."
   ]
  },
  {
   "cell_type": "code",
   "execution_count": 37,
   "metadata": {},
   "outputs": [
    {
     "name": "stdout",
     "output_type": "stream",
     "text": [
      "256 ns ± 23.1 ns per loop (mean ± std. dev. of 7 runs, 1000000 loops each)\n",
      "15.3 µs ± 335 ns per loop (mean ± std. dev. of 7 runs, 100000 loops each)\n",
      "148 ns ± 1.13 ns per loop (mean ± std. dev. of 7 runs, 10000000 loops each)\n"
     ]
    }
   ],
   "source": [
    "x1 = 1\n",
    "x2 = 2\n",
    "\n",
    "# Pure python \n",
    "%timeit cantor_py(x1, x2)\n",
    "\n",
    "# Numba\n",
    "%timeit cantor(x1, x2)\n",
    "\n",
    "# Numpy \n",
    "%timeit (0.5 * (x1 + x2)*(x1 + x2 + 1) + x2)"
   ]
  },
  {
   "cell_type": "markdown",
   "metadata": {},
   "source": [
    "An additional advantage of universal functions is that, since they depend on individual values, their evaluation can also be executed in parallel. Numba provides an easy way to parallelize suc  functions by passing the target=\"cpu\" or target=\"gpu\" keyword argument to the nb.vectorize decorator."
   ]
  },
  {
   "cell_type": "markdown",
   "metadata": {},
   "source": [
    "#### Generalized universal functions"
   ]
  },
  {
   "cell_type": "markdown",
   "metadata": {},
   "source": [
    "One of the main limitations of universal functions is that they must be defined on scalar values. A generalized universal function, abbreviated *gufunc*, is an extension of universal functions to procedures that take arrays"
   ]
  },
  {
   "cell_type": "markdown",
   "metadata": {},
   "source": [
    "A classic example is the matrix multiplication. In NumPy, matrix multiplication can be applied using the np.matmul function, which takes two 2D arrays and returns another 2D array"
   ]
  },
  {
   "cell_type": "code",
   "execution_count": 38,
   "metadata": {},
   "outputs": [
    {
     "data": {
      "text/plain": [
       "(3, 3)"
      ]
     },
     "execution_count": 38,
     "metadata": {},
     "output_type": "execute_result"
    }
   ],
   "source": [
    "a = np.random.rand(3,3)\n",
    "b = np.random.rand(3,3)\n",
    "\n",
    "c = np.matmul(a,b)\n",
    "c.shape"
   ]
  },
  {
   "cell_type": "markdown",
   "metadata": {},
   "source": [
    "a ufunc broadcasts the operation over arrays of scalars, its natural generalization will be to broadcast over an array of arrays"
   ]
  },
  {
   "cell_type": "markdown",
   "metadata": {},
   "source": [
    "If, for instance, we take two arrays of 3 by 3 matrices, we will expect np.matmul to take to match the matrices and take their product. In the following example, we take two arrays containing 10\n",
    "matrices of shape (3, 3). If we apply np.matmul, the product will be applied matrix-wise to obtain a new array containing the 10 results (which are, again, (3, 3) matrices):"
   ]
  },
  {
   "cell_type": "code",
   "execution_count": 39,
   "metadata": {},
   "outputs": [
    {
     "data": {
      "text/plain": [
       "(10, 3, 3)"
      ]
     },
     "execution_count": 39,
     "metadata": {},
     "output_type": "execute_result"
    }
   ],
   "source": [
    "a = np.random.rand(10, 3, 3)\n",
    "b = np.random.rand(10, 3, 3)\n",
    "\n",
    "c = np.matmul(a, b)\n",
    "c.shape"
   ]
  },
  {
   "cell_type": "markdown",
   "metadata": {},
   "source": [
    "The usual rules for broadcasting will work in a similar way. For example, if we have an array of (3, 3) matrices, which will have a shape of (10, 3, 3), we can use np.matmul to calculate the matrix multiplication of each element with a single (3, 3) matrix. According to the broadcasting rules, we obtain that the single matrix will be repeated to obtain a size of (10, 3, 3)"
   ]
  },
  {
   "cell_type": "code",
   "execution_count": 40,
   "metadata": {},
   "outputs": [
    {
     "data": {
      "text/plain": [
       "(10, 3, 3)"
      ]
     },
     "execution_count": 40,
     "metadata": {},
     "output_type": "execute_result"
    }
   ],
   "source": [
    "a = np.random.rand(10, 3, 3)\n",
    "b = np.random.rand(3, 3) # Broadcasted to shape (10, 3, 3)\n",
    "\n",
    "c = np.matmul(a, b)\n",
    "c.shape"
   ]
  },
  {
   "cell_type": "markdown",
   "metadata": {},
   "source": [
    "Numba supports the implementation of efficient generalized universal functions through the nb.guvectorize decorator. As an example, we will implement a function that computes the euclidean distance between two arrays as a gufunc. To create a gufunc, we have to define a function that takes the input arrays, plus an output array where we will store the result of our calculation"
   ]
  },
  {
   "cell_type": "markdown",
   "metadata": {},
   "source": [
    "The nb.guvectorize decorator requires two arguments\n",
    "1. The types of the input and output: two 1D arrays as input and a scalar as output\n",
    "2. The so called layout string, which is a representation of the input and output sizes; in our case, we take two arrays of the same size (denoted arbitrarily by n), and we output a scalar"
   ]
  },
  {
   "cell_type": "code",
   "execution_count": 41,
   "metadata": {},
   "outputs": [],
   "source": [
    "@nb.guvectorize(['float64[:], float64[:], float64[:]'], '(n), (n)->()')\n",
    "def euclidean(a,b,out):\n",
    "    N = a.shape[0]\n",
    "    out[0] = 0.0\n",
    "    for i in range(N):\n",
    "        out[0] += (a[i] - b[i]) ** 2"
   ]
  },
  {
   "cell_type": "markdown",
   "metadata": {},
   "source": [
    "Numba treats scalar argument as arrays of size 1."
   ]
  },
  {
   "cell_type": "code",
   "execution_count": 45,
   "metadata": {},
   "outputs": [
    {
     "data": {
      "text/plain": [
       "()"
      ]
     },
     "execution_count": 45,
     "metadata": {},
     "output_type": "execute_result"
    }
   ],
   "source": [
    "a = np.random.rand(2)\n",
    "b = np.random.rand(2)\n",
    "c = euclidean(a, b) # Shape: (1,)\n",
    "c.shape"
   ]
  },
  {
   "cell_type": "code",
   "execution_count": 46,
   "metadata": {},
   "outputs": [
    {
     "data": {
      "text/plain": [
       "(10,)"
      ]
     },
     "execution_count": 46,
     "metadata": {},
     "output_type": "execute_result"
    }
   ],
   "source": [
    "a = np.random.rand(10, 2)\n",
    "b = np.random.rand(10, 2)\n",
    "c = euclidean(a, b) # Shape: (10,)\n",
    "c.shape"
   ]
  },
  {
   "cell_type": "code",
   "execution_count": 47,
   "metadata": {},
   "outputs": [
    {
     "data": {
      "text/plain": [
       "(10,)"
      ]
     },
     "execution_count": 47,
     "metadata": {},
     "output_type": "execute_result"
    }
   ],
   "source": [
    "a = np.random.rand(10, 2)\n",
    "b = np.random.rand(2)\n",
    "c = euclidean(a, b) # Shape: (10,)\n",
    "c.shape"
   ]
  },
  {
   "cell_type": "code",
   "execution_count": 48,
   "metadata": {},
   "outputs": [],
   "source": [
    "a = np.random.rand(10000, 2)\n",
    "b = np.random.rand(10000, 2)"
   ]
  },
  {
   "cell_type": "code",
   "execution_count": 49,
   "metadata": {},
   "outputs": [
    {
     "name": "stdout",
     "output_type": "stream",
     "text": [
      "119 µs ± 3.66 µs per loop (mean ± std. dev. of 7 runs, 10000 loops each)\n"
     ]
    }
   ],
   "source": [
    "%timeit ((a - b)**2).sum(axis=1)\n",
    "# 1000 loops, best of 3: 288 μs per loop"
   ]
  },
  {
   "cell_type": "code",
   "execution_count": 50,
   "metadata": {},
   "outputs": [
    {
     "name": "stdout",
     "output_type": "stream",
     "text": [
      "28.7 µs ± 524 ns per loop (mean ± std. dev. of 7 runs, 10000 loops each)\n"
     ]
    }
   ],
   "source": [
    "%timeit euclidean(a, b)\n",
    "# 10000 loops, best of 3: 35.6 μs per loop"
   ]
  },
  {
   "cell_type": "markdown",
   "metadata": {},
   "source": [
    "### 5.1.5 JIT classes"
   ]
  },
  {
   "cell_type": "code",
   "execution_count": 51,
   "metadata": {},
   "outputs": [],
   "source": [
    "class Node:\n",
    "    def __init__(self, value):\n",
    "        self.next = None\n",
    "        self.value = value"
   ]
  },
  {
   "cell_type": "code",
   "execution_count": 53,
   "metadata": {},
   "outputs": [],
   "source": [
    "class LinkedList:\n",
    "    def __init__(self):\n",
    "        self.head = None\n",
    "    def push_front(self, value):\n",
    "        if self.head == None:\n",
    "            self.head = Node(value)\n",
    "        else:\n",
    "            # We replace the head\n",
    "            new_head = Node(value)\n",
    "            new_head.next = self.head\n",
    "            self.head = new_head"
   ]
  },
  {
   "cell_type": "code",
   "execution_count": 54,
   "metadata": {},
   "outputs": [],
   "source": [
    "def show(self):\n",
    "    node = self.head\n",
    "    while node is not None:\n",
    "        print(node.value)\n",
    "        node = node.next"
   ]
  },
  {
   "cell_type": "code",
   "execution_count": 59,
   "metadata": {},
   "outputs": [],
   "source": [
    "lst = LinkedList()\n",
    "lst.push_front(1)\n",
    "lst.push_front(2)\n",
    "lst.push_front(3)"
   ]
  },
  {
   "cell_type": "code",
   "execution_count": 60,
   "metadata": {},
   "outputs": [],
   "source": [
    "@nb.jit\n",
    "def sum_list(lst):\n",
    "    result = 0\n",
    "    node = lst.head\n",
    "    while node is not None:\n",
    "        result += node.value\n",
    "        node = node.next\n",
    "    return result"
   ]
  },
  {
   "cell_type": "code",
   "execution_count": 61,
   "metadata": {},
   "outputs": [
    {
     "name": "stdout",
     "output_type": "stream",
     "text": [
      "840 µs ± 24.4 µs per loop (mean ± std. dev. of 7 runs, 1000 loops each)\n"
     ]
    },
    {
     "name": "stderr",
     "output_type": "stream",
     "text": [
      "<ipython-input-60-40193199fddc>:1: NumbaWarning: \u001b[1m\n",
      "Compilation is falling back to object mode WITH looplifting enabled because Function \"sum_list\" failed type inference due to: \u001b[1m\u001b[1mnon-precise type pyobject\u001b[0m\n",
      "\u001b[0m\u001b[1m[1] During: typing of argument at <ipython-input-60-40193199fddc> (3)\u001b[0m\n",
      "\u001b[1m\n",
      "File \"<ipython-input-60-40193199fddc>\", line 3:\u001b[0m\n",
      "\u001b[1mdef sum_list(lst):\n",
      "\u001b[1m    result = 0\n",
      "\u001b[0m    \u001b[1m^\u001b[0m\u001b[0m\n",
      "\u001b[0m\n",
      "  @nb.jit\n",
      "<ipython-input-60-40193199fddc>:1: NumbaWarning: \u001b[1m\n",
      "Compilation is falling back to object mode WITHOUT looplifting enabled because Function \"sum_list\" failed type inference due to: \u001b[1m\u001b[1mcannot determine Numba type of <class 'numba.dispatcher.LiftedLoop'>\u001b[0m\n",
      "\u001b[1m\n",
      "File \"<ipython-input-60-40193199fddc>\", line 5:\u001b[0m\n",
      "\u001b[1mdef sum_list(lst):\n",
      "    <source elided>\n",
      "    node = lst.head\n",
      "\u001b[1m    while node is not None:\n",
      "\u001b[0m    \u001b[1m^\u001b[0m\u001b[0m\n",
      "\u001b[0m\u001b[0m\n",
      "  @nb.jit\n",
      "/Users/boyuan/anaconda3/envs/Python/lib/python3.7/site-packages/numba/object_mode_passes.py:178: NumbaWarning: \u001b[1mFunction \"sum_list\" was compiled in object mode without forceobj=True, but has lifted loops.\n",
      "\u001b[1m\n",
      "File \"<ipython-input-60-40193199fddc>\", line 3:\u001b[0m\n",
      "\u001b[1mdef sum_list(lst):\n",
      "\u001b[1m    result = 0\n",
      "\u001b[0m    \u001b[1m^\u001b[0m\u001b[0m\n",
      "\u001b[0m\n",
      "  state.func_ir.loc))\n",
      "/Users/boyuan/anaconda3/envs/Python/lib/python3.7/site-packages/numba/object_mode_passes.py:188: NumbaDeprecationWarning: \u001b[1m\n",
      "Fall-back from the nopython compilation path to the object mode compilation path has been detected, this is deprecated behaviour.\n",
      "\n",
      "For more information visit http://numba.pydata.org/numba-doc/latest/reference/deprecation.html#deprecation-of-object-mode-fall-back-behaviour-when-using-jit\n",
      "\u001b[1m\n",
      "File \"<ipython-input-60-40193199fddc>\", line 3:\u001b[0m\n",
      "\u001b[1mdef sum_list(lst):\n",
      "\u001b[1m    result = 0\n",
      "\u001b[0m    \u001b[1m^\u001b[0m\u001b[0m\n",
      "\u001b[0m\n",
      "  state.func_ir.loc))\n",
      "<ipython-input-60-40193199fddc>:1: NumbaWarning: \u001b[1m\n",
      "Compilation is falling back to object mode WITHOUT looplifting enabled because Function \"sum_list\" failed type inference due to: \u001b[1m\u001b[1mnon-precise type pyobject\u001b[0m\n",
      "\u001b[0m\u001b[1m[1] During: typing of argument at <ipython-input-60-40193199fddc> (5)\u001b[0m\n",
      "\u001b[1m\n",
      "File \"<ipython-input-60-40193199fddc>\", line 5:\u001b[0m\n",
      "\u001b[1mdef sum_list(lst):\n",
      "    <source elided>\n",
      "    node = lst.head\n",
      "\u001b[1m    while node is not None:\n",
      "\u001b[0m    \u001b[1m^\u001b[0m\u001b[0m\n",
      "\u001b[0m\n",
      "  @nb.jit\n",
      "/Users/boyuan/anaconda3/envs/Python/lib/python3.7/site-packages/numba/object_mode_passes.py:178: NumbaWarning: \u001b[1mFunction \"sum_list\" was compiled in object mode without forceobj=True.\n",
      "\u001b[1m\n",
      "File \"<ipython-input-60-40193199fddc>\", line 5:\u001b[0m\n",
      "\u001b[1mdef sum_list(lst):\n",
      "    <source elided>\n",
      "    node = lst.head\n",
      "\u001b[1m    while node is not None:\n",
      "\u001b[0m    \u001b[1m^\u001b[0m\u001b[0m\n",
      "\u001b[0m\n",
      "  state.func_ir.loc))\n",
      "/Users/boyuan/anaconda3/envs/Python/lib/python3.7/site-packages/numba/object_mode_passes.py:188: NumbaDeprecationWarning: \u001b[1m\n",
      "Fall-back from the nopython compilation path to the object mode compilation path has been detected, this is deprecated behaviour.\n",
      "\n",
      "For more information visit http://numba.pydata.org/numba-doc/latest/reference/deprecation.html#deprecation-of-object-mode-fall-back-behaviour-when-using-jit\n",
      "\u001b[1m\n",
      "File \"<ipython-input-60-40193199fddc>\", line 5:\u001b[0m\n",
      "\u001b[1mdef sum_list(lst):\n",
      "    <source elided>\n",
      "    node = lst.head\n",
      "\u001b[1m    while node is not None:\n",
      "\u001b[0m    \u001b[1m^\u001b[0m\u001b[0m\n",
      "\u001b[0m\n",
      "  state.func_ir.loc))\n"
     ]
    },
    {
     "name": "stdout",
     "output_type": "stream",
     "text": [
      "866 µs ± 34.5 µs per loop (mean ± std. dev. of 7 runs, 1000 loops each)\n"
     ]
    }
   ],
   "source": [
    "lst = LinkedList()\n",
    "[lst.push_front(i) for i in range(10000)]\n",
    "\n",
    "%timeit sum_list.py_func(lst)\n",
    "# 1000 loops, best of 3: 2.36 ms per loop\n",
    "%timeit sum_list(lst)\n",
    "# 100 loops, best of 3: 1.75 ms per loop"
   ]
  },
  {
   "cell_type": "code",
   "execution_count": null,
   "metadata": {},
   "outputs": [],
   "source": [
    "node_type = nb.deferred_type()\n",
    "node_spec = [\n",
    "    ('next', nb.optional(node_type)),\n",
    "    ('value', nb.int64)\n",
    "]\n",
    "\n",
    "@nb.jitclass(node_spec)\n",
    "class Node:\n",
    "    # Body of Node is unchanged\n",
    "node_type.define(Node.class_type.instance_type)"
   ]
  },
  {
   "cell_type": "code",
   "execution_count": null,
   "metadata": {},
   "outputs": [],
   "source": [
    "ll_spec = [\n",
    "('head', nb.optional(Node.class_type.instance_type))\n",
    "]\n",
    "\n",
    "@nb.jitclass(ll_spec)\n",
    "class LinkedList:\n",
    "# Body of LinkedList is unchanged"
   ]
  },
  {
   "cell_type": "code",
   "execution_count": null,
   "metadata": {},
   "outputs": [],
   "source": [
    "lst = LinkedList()\n",
    "[lst.push_front(i) for i in range(10000)]\n",
    "\n",
    "%timeit sum_list(lst)\n",
    "# 1000 loops, best of 3: 345 μs per loop\n",
    "%timeit sum_list.py_func(lst)\n",
    "# 100 loops, best of 3: 3.36 ms per loop"
   ]
  },
  {
   "cell_type": "markdown",
   "metadata": {},
   "source": [
    "### 5.1.6 Limitations in numba"
   ]
  },
  {
   "cell_type": "markdown",
   "metadata": {},
   "source": [
    "There are some instances where Numba cannot properly infer the variable types and will refuse to compile"
   ]
  },
  {
   "cell_type": "markdown",
   "metadata": {},
   "source": [
    "In the following example, we define a function that takes a nested list of integers and returns the sum of the element in every sublist. In this case, Numba will raise ValueError and refuse to compile"
   ]
  },
  {
   "cell_type": "code",
   "execution_count": 68,
   "metadata": {},
   "outputs": [
    {
     "name": "stderr",
     "output_type": "stream",
     "text": [
      "<ipython-input-68-7812101a7ef5>:5: NumbaWarning: \u001b[1m\n",
      "Compilation is falling back to object mode WITH looplifting enabled because Function \"sum_sublists\" failed type inference due to: \u001b[1mUntyped global name 'sum':\u001b[0m \u001b[1m\u001b[1mcannot determine Numba type of <class 'builtin_function_or_method'>\u001b[0m\n",
      "\u001b[1m\n",
      "File \"<ipython-input-68-7812101a7ef5>\", line 9:\u001b[0m\n",
      "\u001b[1mdef sum_sublists(a):\n",
      "    <source elided>\n",
      "    for sublist in a:\n",
      "\u001b[1m        result.append(sum(sublist))\n",
      "\u001b[0m        \u001b[1m^\u001b[0m\u001b[0m\n",
      "\u001b[0m\u001b[0m\n",
      "  @nb.jit\n",
      "<ipython-input-68-7812101a7ef5>:5: NumbaWarning: \u001b[1m\n",
      "Compilation is falling back to object mode WITHOUT looplifting enabled because Function \"sum_sublists\" failed type inference due to: \u001b[1m\u001b[1mcannot determine Numba type of <class 'numba.dispatcher.LiftedLoop'>\u001b[0m\n",
      "\u001b[1m\n",
      "File \"<ipython-input-68-7812101a7ef5>\", line 8:\u001b[0m\n",
      "\u001b[1mdef sum_sublists(a):\n",
      "    <source elided>\n",
      "    result = []\n",
      "\u001b[1m    for sublist in a:\n",
      "\u001b[0m    \u001b[1m^\u001b[0m\u001b[0m\n",
      "\u001b[0m\u001b[0m\n",
      "  @nb.jit\n",
      "/Users/boyuan/anaconda3/envs/Python/lib/python3.7/site-packages/numba/object_mode_passes.py:178: NumbaWarning: \u001b[1mFunction \"sum_sublists\" was compiled in object mode without forceobj=True, but has lifted loops.\n",
      "\u001b[1m\n",
      "File \"<ipython-input-68-7812101a7ef5>\", line 7:\u001b[0m\n",
      "\u001b[1mdef sum_sublists(a):\n",
      "\u001b[1m    result = []\n",
      "\u001b[0m    \u001b[1m^\u001b[0m\u001b[0m\n",
      "\u001b[0m\n",
      "  state.func_ir.loc))\n",
      "/Users/boyuan/anaconda3/envs/Python/lib/python3.7/site-packages/numba/object_mode_passes.py:188: NumbaDeprecationWarning: \u001b[1m\n",
      "Fall-back from the nopython compilation path to the object mode compilation path has been detected, this is deprecated behaviour.\n",
      "\n",
      "For more information visit http://numba.pydata.org/numba-doc/latest/reference/deprecation.html#deprecation-of-object-mode-fall-back-behaviour-when-using-jit\n",
      "\u001b[1m\n",
      "File \"<ipython-input-68-7812101a7ef5>\", line 7:\u001b[0m\n",
      "\u001b[1mdef sum_sublists(a):\n",
      "\u001b[1m    result = []\n",
      "\u001b[0m    \u001b[1m^\u001b[0m\u001b[0m\n",
      "\u001b[0m\n",
      "  state.func_ir.loc))\n",
      "<ipython-input-68-7812101a7ef5>:5: NumbaWarning: \u001b[1m\n",
      "Compilation is falling back to object mode WITHOUT looplifting enabled because Function \"sum_sublists\" failed type inference due to: \u001b[1mUntyped global name 'sum':\u001b[0m \u001b[1m\u001b[1mcannot determine Numba type of <class 'builtin_function_or_method'>\u001b[0m\n",
      "\u001b[1m\n",
      "File \"<ipython-input-68-7812101a7ef5>\", line 9:\u001b[0m\n",
      "\u001b[1mdef sum_sublists(a):\n",
      "    <source elided>\n",
      "    for sublist in a:\n",
      "\u001b[1m        result.append(sum(sublist))\n",
      "\u001b[0m        \u001b[1m^\u001b[0m\u001b[0m\n",
      "\u001b[0m\u001b[0m\n",
      "  @nb.jit\n",
      "/Users/boyuan/anaconda3/envs/Python/lib/python3.7/site-packages/numba/object_mode_passes.py:178: NumbaWarning: \u001b[1mFunction \"sum_sublists\" was compiled in object mode without forceobj=True.\n",
      "\u001b[1m\n",
      "File \"<ipython-input-68-7812101a7ef5>\", line 8:\u001b[0m\n",
      "\u001b[1mdef sum_sublists(a):\n",
      "    <source elided>\n",
      "    result = []\n",
      "\u001b[1m    for sublist in a:\n",
      "\u001b[0m    \u001b[1m^\u001b[0m\u001b[0m\n",
      "\u001b[0m\n",
      "  state.func_ir.loc))\n",
      "/Users/boyuan/anaconda3/envs/Python/lib/python3.7/site-packages/numba/object_mode_passes.py:188: NumbaDeprecationWarning: \u001b[1m\n",
      "Fall-back from the nopython compilation path to the object mode compilation path has been detected, this is deprecated behaviour.\n",
      "\n",
      "For more information visit http://numba.pydata.org/numba-doc/latest/reference/deprecation.html#deprecation-of-object-mode-fall-back-behaviour-when-using-jit\n",
      "\u001b[1m\n",
      "File \"<ipython-input-68-7812101a7ef5>\", line 8:\u001b[0m\n",
      "\u001b[1mdef sum_sublists(a):\n",
      "    <source elided>\n",
      "    result = []\n",
      "\u001b[1m    for sublist in a:\n",
      "\u001b[0m    \u001b[1m^\u001b[0m\u001b[0m\n",
      "\u001b[0m\n",
      "  state.func_ir.loc))\n"
     ]
    },
    {
     "data": {
      "text/plain": [
       "[3, 7, 26]"
      ]
     },
     "execution_count": 68,
     "metadata": {},
     "output_type": "execute_result"
    }
   ],
   "source": [
    "a = [[0, 1, 2],\n",
    "     [3, 4],\n",
    "     [5, 6, 7, 8]]\n",
    "\n",
    "@nb.jit\n",
    "def sum_sublists(a):\n",
    "    result = []\n",
    "    for sublist in a:\n",
    "        result.append(sum(sublist))\n",
    "    return result\n",
    "\n",
    "sum_sublists(a)"
   ]
  },
  {
   "cell_type": "markdown",
   "metadata": {},
   "source": [
    "The problem with this code is that Numba is not able to determine the type of the list and fails. A way to fix this problem is to help the compiler determine the right type by initializing the list with a sample element and removing it at the end:"
   ]
  },
  {
   "cell_type": "code",
   "execution_count": 69,
   "metadata": {},
   "outputs": [],
   "source": [
    "@nb.jit\n",
    "def sum_sublists(a):\n",
    "    result = [0]\n",
    "    for sublist in a:\n",
    "        result.append(sum(sublist))\n",
    "    return result[1:]"
   ]
  },
  {
   "cell_type": "markdown",
   "metadata": {
    "toc-hr-collapsed": true,
    "toc-nb-collapsed": true
   },
   "source": [
    "## 5.2 The pypy project"
   ]
  },
  {
   "cell_type": "markdown",
   "metadata": {},
   "source": [
    "PyPy is a very ambitious project at improving the performance of the Python interpreter. The way PyPy improves performance is by automatically compiling slow sections of the code at runtime."
   ]
  },
  {
   "cell_type": "markdown",
   "metadata": {},
   "source": [
    "PyPy is written in a special language called RPython (rather than C) that allows developers to quickly and reliably implement advanced features and improvements. RPython means Restricted Python because it implements a restricted subset of the Python language targeted to the compiler development."
   ]
  },
  {
   "cell_type": "markdown",
   "metadata": {},
   "source": [
    "PyPy compiles code using a very clever strategy, called tracing JIT compilation. At first, the code is executed normally using interpreter calls. PyPy then starts to profile the code and identifies the most intensive loops. After the identification takes place, the compiler then observes (traces) the operations and is able to compile its optimized, interpreter-free version"
   ]
  },
  {
   "cell_type": "markdown",
   "metadata": {},
   "source": [
    "Once an optimized version of the code is present, PyPy is able to run the slow loop much faster than the interpreted version"
   ]
  },
  {
   "cell_type": "markdown",
   "metadata": {},
   "source": [
    "This strategy can be contrasted with what Numba does. In Numba, the units of compilation are methods and functions, while the PyPy focus is just slow loops. Overall, the focus of the projects is also very different as Numba has a limited scope for numerical code and requires a lot of instrumentation while PyPy aims at replacing the CPython interpreter"
   ]
  },
  {
   "cell_type": "markdown",
   "metadata": {},
   "source": [
    "### 5.2.1 Setting up pypy"
   ]
  },
  {
   "cell_type": "markdown",
   "metadata": {},
   "source": [
    "### 5.2.2 Running a particle simulator in pypy"
   ]
  },
  {
   "cell_type": "markdown",
   "metadata": {
    "toc-hr-collapsed": true,
    "toc-nb-collapsed": true
   },
   "source": [
    "## 5.3 Other interesting projects"
   ]
  },
  {
   "cell_type": "markdown",
   "metadata": {},
   "source": [
    "**Numba** and **PyPy** are mature projects that are steadily improving over the years. Features are continuously being added and they hold great promise for the future of Python."
   ]
  },
  {
   "cell_type": "markdown",
   "metadata": {},
   "source": [
    "**Nuitka** is a program developed by Kay Hayen that compiles Python code to C. As of right now (version 0.5.x), it provides extreme compatibility with the Python language and produces efficient code that results in moderate performance improvements over CPython"
   ]
  },
  {
   "cell_type": "markdown",
   "metadata": {},
   "source": [
    "**Pyston** is a new interpreter developed by Dropbox that powers JIT compilers. It differs substantially from PyPy as it doesn't employ a tracing JIT, but rather a method-at-a-time JIT (similar to what Numba does). Pyston, like Numba, is also built on top of the LLVM compiler infrastructure."
   ]
  },
  {
   "cell_type": "markdown",
   "metadata": {
    "toc-hr-collapsed": true,
    "toc-nb-collapsed": true
   },
   "source": [
    "## 5.4 Summary"
   ]
  }
 ],
 "metadata": {
  "kernelspec": {
   "display_name": "Python 3",
   "language": "python",
   "name": "python3"
  },
  "language_info": {
   "codemirror_mode": {
    "name": "ipython",
    "version": 3
   },
   "file_extension": ".py",
   "mimetype": "text/x-python",
   "name": "python",
   "nbconvert_exporter": "python",
   "pygments_lexer": "ipython3",
   "version": "3.7.7"
  }
 },
 "nbformat": 4,
 "nbformat_minor": 4
}
